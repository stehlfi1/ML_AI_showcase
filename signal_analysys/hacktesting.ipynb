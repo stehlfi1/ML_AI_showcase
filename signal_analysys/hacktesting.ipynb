{
 "cells": [
  {
   "cell_type": "markdown",
   "metadata": {},
   "source": [
    "### TESTING"
   ]
  },
  {
   "cell_type": "code",
   "execution_count": 6,
   "metadata": {},
   "outputs": [
    {
     "name": "stdout",
     "output_type": "stream",
     "text": [
      "DataFrame columns: Index([], dtype='object')\n",
      "XML Root children: ['SignalGroup', 'SignalGroup', 'Info']\n",
      "SignalGroup children: ['Artefact', 'Artefact', 'Artefact', 'Artefact', 'Artefact', 'Artefact', 'Artefact', 'Artefact', 'Artefact', 'Artefact', 'Artefact', 'Artefact', 'Artefact', 'Artefact', 'Artefact', 'Artefact', 'Artefact', 'Artefact', 'Artefact', 'Artefact', 'Artefact', 'Artefact', 'Artefact', 'Artefact', 'Artefact', 'Artefact', 'Artefact', 'Artefact', 'Artefact', 'Artefact', 'Artefact', 'Artefact', 'Artefact', 'Artefact', 'Artefact', 'Artefact', 'Artefact', 'Artefact', 'Artefact', 'Artefact', 'Artefact', 'Artefact', 'Artefact', 'Artefact', 'Artefact', 'Artefact', 'Artefact', 'Artefact', 'Artefact', 'Artefact', 'Artefact', 'Artefact', 'Artefact', 'Artefact', 'Artefact', 'Artefact', 'Artefact', 'Artefact', 'Artefact', 'Artefact', 'Artefact', 'Artefact', 'Artefact', 'Artefact', 'Artefact', 'Artefact', 'Artefact', 'Artefact', 'Artefact', 'Artefact', 'Artefact', 'Artefact', 'Artefact', 'Artefact', 'Artefact', 'Artefact', 'Artefact', 'Artefact', 'Artefact', 'Artefact', 'Artefact', 'Artefact', 'Artefact', 'Artefact', 'Artefact', 'Artefact', 'Artefact', 'Artefact', 'Artefact', 'Artefact', 'Artefact', 'Artefact', 'Artefact', 'Artefact', 'Artefact', 'Artefact', 'Artefact', 'Artefact', 'Artefact', 'Artefact', 'Artefact', 'Artefact', 'Artefact', 'Artefact', 'Artefact', 'Artefact', 'Artefact', 'Artefact', 'Artefact', 'Artefact', 'Artefact', 'Artefact', 'Artefact', 'Artefact', 'Artefact', 'Artefact', 'Artefact', 'Artefact', 'Artefact', 'Artefact', 'Artefact', 'Artefact', 'Artefact', 'Artefact', 'Artefact', 'Artefact', 'Artefact', 'Artefact', 'Artefact', 'Artefact', 'Artefact', 'Artefact', 'Artefact', 'Artefact', 'Artefact', 'Artefact', 'Artefact', 'Artefact', 'Artefact', 'Artefact', 'Artefact', 'Artefact', 'Artefact', 'Artefact', 'Artefact', 'Artefact', 'Artefact', 'Artefact', 'Artefact', 'Artefact', 'Artefact', 'Artefact', 'Artefact', 'Artefact', 'Artefact', 'Artefact', 'Artefact', 'Artefact', 'Artefact', 'Artefact', 'Artefact', 'Artefact', 'Artefact', 'Artefact', 'Artefact', 'Artefact', 'Artefact', 'Artefact', 'Artefact', 'Artefact', 'Artefact', 'Artefact', 'Artefact', 'Artefact', 'Artefact', 'Artefact', 'Artefact', 'Artefact', 'Artefact', 'Artefact', 'Artefact', 'Artefact', 'Artefact', 'Artefact', 'Artefact', 'Artefact', 'Artefact', 'Artefact', 'Artefact', 'Artefact', 'Artefact', 'Artefact', 'Artefact', 'Artefact', 'Artefact', 'Artefact', 'Artefact', 'Artefact', 'Artefact', 'Artefact', 'Artefact', 'Artefact', 'Artefact', 'Artefact', 'Artefact', 'Artefact', 'Artefact', 'Artefact', 'Artefact', 'Artefact', 'Artefact', 'Artefact', 'Artefact', 'Artefact', 'Artefact', 'Artefact', 'Artefact']\n"
     ]
    }
   ],
   "source": [
    "# To check if DataFrame is created properly\n",
    "print(\"DataFrame columns:\", df.columns)\n",
    "\n",
    "# To check if the XML root has the expected child 'SignalGroup'\n",
    "print(\"XML Root children:\", [child.tag for child in root])\n",
    "\n",
    "# To check if 'SignalGroup' has children 'Artefact'\n",
    "signal_group = root.find('SignalGroup')\n",
    "if signal_group:\n",
    "    print(\"SignalGroup children:\", [child.tag for child in signal_group])\n"
   ]
  },
  {
   "cell_type": "code",
   "execution_count": 10,
   "metadata": {},
   "outputs": [
    {
     "name": "stdout",
     "output_type": "stream",
     "text": [
      "DataFrame after creation:          StartTime       EndTime  annotation\n",
      "0     15:49:27.730  15:49:37.730           0\n",
      "1     15:49:37.730  15:49:47.730           0\n",
      "2     15:49:47.730  15:49:57.730           0\n",
      "3     15:49:57.730  15:50:07.730           0\n",
      "4     15:50:07.730  15:50:17.730           0\n",
      "...            ...           ...         ...\n",
      "8008  14:04:07.730  14:04:17.730           0\n",
      "8009  14:04:17.730  14:04:27.730           0\n",
      "8010  14:04:27.730  14:04:37.730           0\n",
      "8011  14:04:37.730  14:04:47.730           0\n",
      "8012  14:04:47.730  14:04:57.730           0\n",
      "\n",
      "[8013 rows x 3 columns]\n"
     ]
    }
   ],
   "source": [
    "from datetime import datetime, timedelta\n",
    "import pandas as pd\n",
    "\n",
    "# Initialize the DataFrame\n",
    "start_time = datetime.strptime(\"15:49:27.730\", \"%H:%M:%S.%f\")\n",
    "end_time = datetime.strptime(\"14:04:47.730\", \"%H:%M:%S.%f\") + timedelta(days=1)  # Next day\n",
    "\n",
    "time_list = []\n",
    "\n",
    "while start_time <= end_time:\n",
    "    time_list.append({\n",
    "        'StartTime': start_time.time().strftime(\"%H:%M:%S.%f\")[:-3],\n",
    "        'EndTime': (start_time + timedelta(seconds=10)).time().strftime(\"%H:%M:%S.%f\")[:-3],\n",
    "        'annotation': 0\n",
    "    })\n",
    "\n",
    "    start_time += timedelta(seconds=10)\n",
    "\n",
    "df = pd.DataFrame(time_list)\n",
    "\n",
    "# Debug line to check DataFrame after creation\n",
    "print(\"DataFrame after creation:\", df)\n"
   ]
  },
  {
   "cell_type": "code",
   "execution_count": 22,
   "metadata": {},
   "outputs": [
    {
     "name": "stdout",
     "output_type": "stream",
     "text": [
      "         StartTime       EndTime  annotation\n",
      "0     15:49:27.730  15:49:37.730           0\n",
      "1     15:49:37.730  15:49:47.730           0\n",
      "2     15:49:47.730  15:49:57.730           0\n",
      "3     15:49:57.730  15:50:07.730           0\n",
      "4     15:50:07.730  15:50:17.730           0\n",
      "...            ...           ...         ...\n",
      "8007  14:03:57.730  14:04:07.730           1\n",
      "8008  14:04:07.730  14:04:17.730           1\n",
      "8009  14:04:17.730  14:04:27.730           1\n",
      "8010  14:04:27.730  14:04:37.730           1\n",
      "8011  14:04:37.730  14:04:47.730           1\n",
      "\n",
      "[8012 rows x 3 columns]\n"
     ]
    }
   ],
   "source": [
    "from datetime import datetime, timedelta\n",
    "import xml.etree.ElementTree as ET\n",
    "import pandas as pd\n",
    "\n",
    "# Load the XML\n",
    "tree = ET.parse('TBI_003.artf')\n",
    "root = tree.getroot()\n",
    "\n",
    "# Initialize the DataFrame\n",
    "start_time = datetime.strptime(\"15:49:27.730\", \"%H:%M:%S.%f\")\n",
    "end_time = datetime.strptime(\"14:04:47.730\", \"%H:%M:%S.%f\") + timedelta(days=1)  # Next day\n",
    "\n",
    "time_list = []\n",
    "\n",
    "# Populate DataFrame\n",
    "while start_time <= end_time:\n",
    "    time_list.append({\n",
    "        'StartTime': start_time.time().strftime(\"%H:%M:%S.%f\")[:-3],\n",
    "        'EndTime': (start_time + timedelta(seconds=10)).time().strftime(\"%H:%M:%S.%f\")[:-3],\n",
    "        'annotation': 0\n",
    "    })\n",
    "\n",
    "    start_time += timedelta(seconds=10)\n",
    "\n",
    "df = pd.DataFrame(time_list)\n",
    "\n",
    "# Populate annotation\n",
    "for signal_group in root.findall('SignalGroup'):\n",
    "    if signal_group.attrib['Name'] == \"icp\":\n",
    "        for artefact in signal_group.findall('Artefact'):\n",
    "            start_time_xml = artefact.attrib['StartTime'].split(\" \")[1]\n",
    "            end_time_xml = artefact.attrib['EndTime'].split(\" \")[1]\n",
    "            \n",
    "            mask = (df['StartTime'] == start_time_xml) & (df['EndTime'] == end_time_xml)\n",
    "            df.loc[mask, 'annotation'] = 1\n",
    "\n",
    "df = df[0:8012]\n",
    "print(df)\n"
   ]
  },
  {
   "cell_type": "code",
   "execution_count": 2,
   "metadata": {},
   "outputs": [
    {
     "name": "stdout",
     "output_type": "stream",
     "text": [
      "         StartTime       EndTime  icp_annotation  art_annotation\n",
      "0     15:49:27.730  15:49:37.730               0               0\n",
      "1     15:49:37.730  15:49:47.730               0               0\n",
      "2     15:49:47.730  15:49:57.730               0               0\n",
      "3     15:49:57.730  15:50:07.730               0               0\n",
      "4     15:50:07.730  15:50:17.730               0               0\n",
      "...            ...           ...             ...             ...\n",
      "8007  14:03:57.730  14:04:07.730               1               0\n",
      "8008  14:04:07.730  14:04:17.730               1               1\n",
      "8009  14:04:17.730  14:04:27.730               1               1\n",
      "8010  14:04:27.730  14:04:37.730               1               1\n",
      "8011  14:04:37.730  14:04:47.730               1               0\n",
      "\n",
      "[8012 rows x 4 columns]\n"
     ]
    }
   ],
   "source": [
    "from datetime import datetime, timedelta\n",
    "import xml.etree.ElementTree as ET\n",
    "import pandas as pd\n",
    "\n",
    "# Load the XML\n",
    "tree = ET.parse('TBI_003.artf')\n",
    "root = tree.getroot()\n",
    "\n",
    "# Initialize the DataFrame\n",
    "start_time = datetime.strptime(\"15:49:27.730\", \"%H:%M:%S.%f\")\n",
    "#\n",
    "end_time = datetime.strptime(\"14:04:47.730\", \"%H:%M:%S.%f\") + timedelta(days=1)  # Next day\n",
    "\n",
    "time_list = []\n",
    "\n",
    "# Populate DataFrame\n",
    "while start_time <= end_time:\n",
    "    time_list.append({\n",
    "        'StartTime': start_time.time().strftime(\"%H:%M:%S.%f\")[:-3],\n",
    "        'EndTime': (start_time + timedelta(seconds=10)).time().strftime(\"%H:%M:%S.%f\")[:-3],\n",
    "        'icp_annotation': 0,\n",
    "        'art_annotation': 0\n",
    "    })\n",
    "\n",
    "    start_time += timedelta(seconds=10)\n",
    "\n",
    "df = pd.DataFrame(time_list)\n",
    "\n",
    "# Populate annotation\n",
    "for signal_group in root.findall('SignalGroup'):\n",
    "    group_name = signal_group.attrib['Name']\n",
    "    \n",
    "    if group_name in ['icp', 'art']:\n",
    "        for artefact in signal_group.findall('Artefact'):\n",
    "            start_time_xml = artefact.attrib['StartTime'].split(\" \")[1]\n",
    "            end_time_xml = artefact.attrib['EndTime'].split(\" \")[1]\n",
    "\n",
    "            mask = (df['StartTime'] == start_time_xml) & (df['EndTime'] == end_time_xml)\n",
    "            df.loc[mask, f'{group_name}_annotation'] = 1\n",
    "df = df[0:8012]\n",
    "print(df)\n"
   ]
  },
  {
   "cell_type": "code",
   "execution_count": 4,
   "metadata": {},
   "outputs": [
    {
     "data": {
      "text/plain": [
       "1"
      ]
     },
     "execution_count": 4,
     "metadata": {},
     "output_type": "execute_result"
    }
   ],
   "source": [
    "import h5py\n",
    "h5py.run_tests()"
   ]
  },
  {
   "cell_type": "code",
   "execution_count": 5,
   "metadata": {},
   "outputs": [],
   "source": [
    "f = h5py.File('TBI_003.hdf5', 'r')"
   ]
  },
  {
   "cell_type": "code",
   "execution_count": 6,
   "metadata": {},
   "outputs": [
    {
     "data": {
      "text/plain": [
       "['annotations',\n",
       " 'aux',\n",
       " 'definitions',\n",
       " 'manualentry',\n",
       " 'numerics',\n",
       " 'packaging.log',\n",
       " 'patient.info',\n",
       " 'summaries',\n",
       " 'waves']"
      ]
     },
     "execution_count": 6,
     "metadata": {},
     "output_type": "execute_result"
    }
   ],
   "source": [
    "list(f.keys())"
   ]
  },
  {
   "cell_type": "code",
   "execution_count": 48,
   "metadata": {},
   "outputs": [
    {
     "data": {
      "text/plain": [
       "array([-99999.     , -99999.     , -99999.     , ...,    139.0528 ,\n",
       "          133.09279,    127.06279], dtype=float32)"
      ]
     },
     "execution_count": 48,
     "metadata": {},
     "output_type": "execute_result"
    }
   ],
   "source": [
    "dset = f['/waves/art']\n",
    "\n",
    "dset[0:8012501]"
   ]
  },
  {
   "cell_type": "code",
   "execution_count": 49,
   "metadata": {},
   "outputs": [],
   "source": [
    "df_wave_art = pd.DataFrame(dset[0:8012000])\n",
    "df_wave_art.to_csv('wave_art.csv')"
   ]
  },
  {
   "cell_type": "code",
   "execution_count": 51,
   "metadata": {},
   "outputs": [
    {
     "data": {
      "text/plain": [
       "array([ 5.9976439e+00,  5.9976439e+00,  5.7976437e+00, ...,\n",
       "       -9.9999000e+04, -9.9999000e+04, -9.9999000e+04], dtype=float32)"
      ]
     },
     "execution_count": 51,
     "metadata": {},
     "output_type": "execute_result"
    }
   ],
   "source": [
    "dset2 = f['/waves/icp']\n",
    "dset2[0:8012501]"
   ]
  },
  {
   "cell_type": "code",
   "execution_count": 45,
   "metadata": {},
   "outputs": [],
   "source": [
    "df_wave_icp = pd.DataFrame(dset2[0:8012000])\n",
    "df_wave_icp.to_csv('wave_icp.csv')"
   ]
  },
  {
   "cell_type": "code",
   "execution_count": 1,
   "metadata": {},
   "outputs": [
    {
     "ename": "",
     "evalue": "",
     "output_type": "error",
     "traceback": [
      "\u001b[1;31mCannot execute code, session has been disposed. Please try restarting the Kernel."
     ]
    },
    {
     "ename": "",
     "evalue": "",
     "output_type": "error",
     "traceback": [
      "\u001b[1;31mThe Kernel crashed while executing code in the the current cell or a previous cell. Please review the code in the cell(s) to identify a possible cause of the failure. Click <a href='https://aka.ms/vscodeJupyterKernelCrash'>here</a> for more info. View Jupyter <a href='command:jupyter.viewOutput'>log</a> for further details."
     ]
    }
   ],
   "source": [
    "#import pandas as pd\n",
    "#art_df = pd.read_hdf('TBI_003.hdf5', key=\"/waves/art\")\n",
    "# art_df = art_df.head(8012501)\n",
    "# art_df[\"time\"]=pd.Series(range(1583077767730000,1583157892740000, 10000))\n",
    "# tbrain_df = pd.read_hdf('TBI_003.hdf5', key=\"waves/tbrain\").head(8012500)\n",
    "# tbrain_df[\"time\"]=pd.Series(range(1,101))"
   ]
  },
  {
   "cell_type": "code",
   "execution_count": null,
   "metadata": {},
   "outputs": [],
   "source": [
    "#import h5py\n",
    "#h5py.run_tests()\n",
    "#f = h5py.File('TBI_003.hdf5', 'r')\n",
    "#list(f.keys())\n",
    "#dset = f['/waves/art']\n",
    "#dset[0:8012501]"
   ]
  },
  {
   "cell_type": "code",
   "execution_count": 8,
   "metadata": {},
   "outputs": [
    {
     "data": {
      "text/plain": [
       "array([[-9.99990000e+04, -9.99990000e+04, -9.99990000e+04, ...,\n",
       "         5.60335388e+01,  5.91035385e+01,  6.58535385e+01],\n",
       "       [ 7.65835419e+01,  8.95735397e+01,  1.02893539e+02, ...,\n",
       "         1.13043541e+02,  1.07523544e+02,  1.02793541e+02],\n",
       "       [ 9.91735382e+01,  9.65535431e+01,  9.46935425e+01, ...,\n",
       "         8.29835358e+01,  8.18435364e+01,  8.07035370e+01],\n",
       "       ...,\n",
       "       [ 1.21040131e+02,  1.20470123e+02,  1.19540131e+02, ...,\n",
       "         1.13640129e+02,  1.10850128e+02,  1.09100128e+02],\n",
       "       [ 1.08232788e+02,  1.07852791e+02,  1.07732788e+02, ...,\n",
       "         1.02522789e+02,  1.01402786e+02,  1.00102791e+02],\n",
       "       [ 9.87227936e+01,  9.73427887e+01,  9.59027863e+01, ...,\n",
       "         1.35132782e+02,  1.29032791e+02,  1.23602791e+02]], dtype=float32)"
      ]
     },
     "execution_count": 8,
     "metadata": {},
     "output_type": "execute_result"
    }
   ],
   "source": [
    "import numpy as np\n",
    "\n",
    "reshaped_dset = np.array(dset[0:8012000]).reshape((8012, 1000))\n",
    "reshaped_dset\n"
   ]
  },
  {
   "cell_type": "code",
   "execution_count": 9,
   "metadata": {},
   "outputs": [],
   "source": [
    "df_wave = pd.DataFrame(reshaped_dset, columns=[f'feature_{i}' for i in range(1000)])\n",
    "\n",
    "# Make sure the shapes align before concatenating\n",
    "if df.shape[0] == df_wave.shape[0]:\n",
    "    # Concatenate along the horizontal axis\n",
    "    df_final = pd.concat([df, df_wave], axis=1)\n",
    "else:\n",
    "    print(\"Shape mismatch. Cannot concatenate.\",df.shape, df_wave.shape)\n"
   ]
  },
  {
   "cell_type": "code",
   "execution_count": 10,
   "metadata": {},
   "outputs": [
    {
     "data": {
      "text/plain": [
       "<bound method NDFrame.head of          StartTime       EndTime  icp_annotation  art_annotation  \\\n",
       "0     15:49:27.730  15:49:37.730               0               0   \n",
       "1     15:49:37.730  15:49:47.730               0               0   \n",
       "2     15:49:47.730  15:49:57.730               0               0   \n",
       "3     15:49:57.730  15:50:07.730               0               0   \n",
       "4     15:50:07.730  15:50:17.730               0               0   \n",
       "...            ...           ...             ...             ...   \n",
       "8007  14:03:57.730  14:04:07.730               1               0   \n",
       "8008  14:04:07.730  14:04:17.730               1               1   \n",
       "8009  14:04:17.730  14:04:27.730               1               1   \n",
       "8010  14:04:27.730  14:04:37.730               1               1   \n",
       "8011  14:04:37.730  14:04:47.730               1               0   \n",
       "\n",
       "         feature_0     feature_1     feature_2     feature_3     feature_4  \\\n",
       "0    -99999.000000 -99999.000000 -99999.000000 -99999.000000 -99999.000000   \n",
       "1        76.583542     89.573540    102.893539    115.513535    126.813538   \n",
       "2        99.173538     96.553543     94.693542     93.413544     92.563538   \n",
       "3        79.563538     78.453537     77.353539     76.443542     75.423538   \n",
       "4        64.543541     63.973541     63.433540     62.893539     62.353539   \n",
       "...            ...           ...           ...           ...           ...   \n",
       "8007    145.820129    154.140137    159.560120    162.470123    163.690125   \n",
       "8008     76.960129     76.200127     75.540131     74.930130     74.400131   \n",
       "8009    121.040131    120.470123    119.540131    117.720123    114.670128   \n",
       "8010    108.232788    107.852791    107.732788    107.612793    107.442795   \n",
       "8011     98.722794     97.342789     95.902786     94.462791     92.992790   \n",
       "\n",
       "         feature_5  ...  feature_990  feature_991  feature_992  feature_993  \\\n",
       "0    -99999.000000  ...    57.093540    56.883541    56.593540    56.163540   \n",
       "1       135.993530  ...   139.513550   137.153534   134.593536   131.723541   \n",
       "2        91.903542  ...    90.163544    89.443542    88.643539    87.643539   \n",
       "3        74.423538  ...    71.113541    70.293541    69.553543    68.943542   \n",
       "4        61.883541  ...    62.003540    61.533539    61.043541    60.613541   \n",
       "...            ...  ...          ...          ...          ...          ...   \n",
       "8007    163.790131  ...    84.320129    83.450127    82.540131    81.680130   \n",
       "8008     73.860130  ...   118.500130   118.690125   118.960129   119.020126   \n",
       "8009    110.940125  ...   151.530121   145.950134   140.160126   134.200134   \n",
       "8010    107.182793  ...   105.982788   105.792786   105.602791   105.312790   \n",
       "8011     91.482788  ...   168.642792   164.582794   160.642792   156.532791   \n",
       "\n",
       "      feature_994  feature_995  feature_996  feature_997  feature_998  \\\n",
       "0       55.693539    55.343540    55.233540    56.033539    59.103539   \n",
       "1      128.303543   124.023537   118.813538   113.043541   107.523544   \n",
       "2       86.553543    85.393539    84.193542    82.983536    81.843536   \n",
       "3       68.223541    67.523544    66.943542    66.343536    65.743538   \n",
       "4       60.193539    59.773540    59.373539    59.033539    58.613541   \n",
       "...           ...          ...          ...          ...          ...   \n",
       "8007    80.940125    80.390129    79.790131    79.130127    78.420128   \n",
       "8008   119.110130   119.500130   120.100128   120.700134   121.050125   \n",
       "8009   128.090134   122.460129   117.560127   113.640129   110.850128   \n",
       "8010   104.872787   104.212791   103.442795   102.522789   101.402786   \n",
       "8011   152.032791   147.042786   141.342789   135.132782   129.032791   \n",
       "\n",
       "      feature_999  \n",
       "0       65.853539  \n",
       "1      102.793541  \n",
       "2       80.703537  \n",
       "3       65.143539  \n",
       "4       58.193539  \n",
       "...           ...  \n",
       "8007    77.690125  \n",
       "8008   121.240128  \n",
       "8009   109.100128  \n",
       "8010   100.102791  \n",
       "8011   123.602791  \n",
       "\n",
       "[8012 rows x 1004 columns]>"
      ]
     },
     "execution_count": 10,
     "metadata": {},
     "output_type": "execute_result"
    }
   ],
   "source": [
    "\n",
    "df_final.head"
   ]
  },
  {
   "cell_type": "code",
   "execution_count": 11,
   "metadata": {},
   "outputs": [],
   "source": [
    "# Export to CSV\n",
    "#df_final.to_csv('final_dataset2.csv', index=False)\n"
   ]
  },
  {
   "cell_type": "code",
   "execution_count": 12,
   "metadata": {},
   "outputs": [],
   "source": [
    "import pandas as pd\n",
    "import numpy as np\n",
    "import matplotlib.pyplot as plt\n",
    "from sklearn import preprocessing\n",
    "from sklearn.model_selection import train_test_split\n",
    "from sklearn.preprocessing import StandardScaler, MinMaxScaler, Normalizer # tri druhy skalovani\n",
    "from sklearn.linear_model import LogisticRegression\n",
    "from sklearn.neighbors import KNeighborsClassifier\n",
    "from sklearn.ensemble import RandomForestClassifier\n",
    "from sklearn.svm import SVC\n",
    "from sklearn.model_selection import train_test_split # pro rozdeleni  dat\n",
    "from sklearn.model_selection import KFold # pouziti cross validace\n",
    "from sklearn.pipeline import Pipeline"
   ]
  },
  {
   "cell_type": "code",
   "execution_count": 18,
   "metadata": {},
   "outputs": [],
   "source": [
    "from sklearn.dummy import DummyClassifier"
   ]
  },
  {
   "cell_type": "code",
   "execution_count": 27,
   "metadata": {},
   "outputs": [
    {
     "name": "stdout",
     "output_type": "stream",
     "text": [
      "[   0    2    3 ... 6406 6407 6408] pipe_mm_rf\n",
      "[   0    2    3 ... 6406 6407 6408] pipe_mm_knn5\n",
      "[   0    2    3 ... 6406 6407 6408] pipe_dummy\n",
      "[   0    1    3 ... 6405 6407 6408] pipe_mm_rf\n",
      "[   0    1    3 ... 6405 6407 6408] pipe_mm_knn5\n",
      "[   0    1    3 ... 6405 6407 6408] pipe_dummy\n",
      "[   1    2    4 ... 6405 6406 6408] pipe_mm_rf\n",
      "[   1    2    4 ... 6405 6406 6408] pipe_mm_knn5\n",
      "[   1    2    4 ... 6405 6406 6408] pipe_dummy\n",
      "[   0    1    2 ... 6405 6406 6407] pipe_mm_rf\n",
      "[   0    1    2 ... 6405 6406 6407] pipe_mm_knn5\n",
      "[   0    1    2 ... 6405 6406 6407] pipe_dummy\n",
      "[   0    1    2 ... 6406 6407 6408] pipe_mm_rf\n",
      "[   0    1    2 ... 6406 6407 6408] pipe_mm_knn5\n",
      "[   0    1    2 ... 6406 6407 6408] pipe_dummy\n",
      "   pipe_mm_rf  pipe_mm_knn5  pipe_dummy\n",
      "0    0.945398      0.950078    0.901716\n",
      "1    0.950078      0.950078    0.911076\n",
      "2    0.945398      0.943058    0.910296\n",
      "3    0.942278      0.940718    0.902496\n",
      "4    0.955504      0.957845    0.921936\n",
      "pipe_mm_rf      0.947731\n",
      "pipe_mm_knn5    0.948355\n",
      "pipe_dummy      0.909504\n",
      "dtype: float64\n",
      "Classification Report for pipe_mm_rf\n",
      "              precision    recall  f1-score   support\n",
      "\n",
      "           0       0.96      0.99      0.98      1479\n",
      "           1       0.85      0.50      0.63       124\n",
      "\n",
      "    accuracy                           0.95      1603\n",
      "   macro avg       0.90      0.75      0.80      1603\n",
      "weighted avg       0.95      0.95      0.95      1603\n",
      "\n",
      "F1-Score for pipe_mm_rf: 0.6294416243654822\n",
      "Classification Report for pipe_mm_knn5\n",
      "              precision    recall  f1-score   support\n",
      "\n",
      "           0       0.96      0.99      0.98      1479\n",
      "           1       0.86      0.56      0.68       124\n",
      "\n",
      "    accuracy                           0.96      1603\n",
      "   macro avg       0.91      0.77      0.83      1603\n",
      "weighted avg       0.96      0.96      0.95      1603\n",
      "\n",
      "F1-Score for pipe_mm_knn5: 0.676470588235294\n",
      "Classification Report for pipe_dummy\n",
      "              precision    recall  f1-score   support\n",
      "\n",
      "           0       0.92      1.00      0.96      1479\n",
      "           1       0.00      0.00      0.00       124\n",
      "\n",
      "    accuracy                           0.92      1603\n",
      "   macro avg       0.46      0.50      0.48      1603\n",
      "weighted avg       0.85      0.92      0.89      1603\n",
      "\n",
      "F1-Score for pipe_dummy: 0.0\n",
      "       Pipeline  F1-Score\n",
      "0    pipe_mm_rf  0.629442\n",
      "1  pipe_mm_knn5  0.676471\n",
      "2    pipe_dummy  0.000000\n"
     ]
    },
    {
     "name": "stderr",
     "output_type": "stream",
     "text": [
      "c:\\Users\\HP GAMING\\AppData\\Local\\Programs\\Python\\Python39\\lib\\site-packages\\sklearn\\metrics\\_classification.py:1344: UndefinedMetricWarning: Precision and F-score are ill-defined and being set to 0.0 in labels with no predicted samples. Use `zero_division` parameter to control this behavior.\n",
      "  _warn_prf(average, modifier, msg_start, len(result))\n",
      "c:\\Users\\HP GAMING\\AppData\\Local\\Programs\\Python\\Python39\\lib\\site-packages\\sklearn\\metrics\\_classification.py:1344: UndefinedMetricWarning: Precision and F-score are ill-defined and being set to 0.0 in labels with no predicted samples. Use `zero_division` parameter to control this behavior.\n",
      "  _warn_prf(average, modifier, msg_start, len(result))\n",
      "c:\\Users\\HP GAMING\\AppData\\Local\\Programs\\Python\\Python39\\lib\\site-packages\\sklearn\\metrics\\_classification.py:1344: UndefinedMetricWarning: Precision and F-score are ill-defined and being set to 0.0 in labels with no predicted samples. Use `zero_division` parameter to control this behavior.\n",
      "  _warn_prf(average, modifier, msg_start, len(result))\n"
     ]
    }
   ],
   "source": [
    "from sklearn.metrics import classification_report\n",
    "from sklearn.metrics import f1_score\n",
    "seed = 420\n",
    "y = preprocessing.LabelEncoder().fit_transform(df_final['art_annotation'])\n",
    "X = df_final\n",
    "X = X.drop('art_annotation',axis = 1)\n",
    "X = X.drop('icp_annotation',axis = 1)\n",
    "X = X.drop('StartTime',axis = 1)\n",
    "X = X.drop('EndTime',axis = 1)\n",
    "X_tr, X_test, y_tr, y_test = train_test_split(X, y, test_size=0.2, random_state=seed, stratify=y)\n",
    "\n",
    "pipe_sc_lr = Pipeline([('scaler', StandardScaler()),('classifier', LogisticRegression())])\n",
    "pipe_sc_dummy = Pipeline([('scaler', StandardScaler()),('classifier', DummyClassifier(strategy=\"most_frequent\"))])\n",
    "pipe_mm_rf = Pipeline([('scaler', MinMaxScaler()),('classifier', RandomForestClassifier(n_estimators=200))])\n",
    "pipe_mm_knn5 = Pipeline([('scaler', MinMaxScaler()),('classifier', KNeighborsClassifier(n_neighbors=5))])\n",
    "\n",
    "\n",
    "\n",
    "pipes = {\"pipe_mm_rf\":pipe_mm_rf,\"pipe_mm_knn5\":pipe_mm_knn5,\"pipe_dummy\":pipe_sc_dummy}\n",
    "# pro kazdou rouru si budeme drzet vysledky\n",
    "results = { pipe_name: [] for pipe_name in pipes.keys()}\n",
    "# rozdelime si data na trenovaci, ktere budeme delit dale, a testovaci, na kterych pak ukazeme chovani\n",
    "X_tr, X_test, y_tr, y_test = train_test_split(X,y, test_size=0.2,random_state=seed) # testovaci data zatim nepouzijeme\n",
    "# trenovaci mnozinu budeme delit dale na 5 podmnozin\n",
    "kf = KFold(n_splits=5, shuffle=True)\n",
    "for train_index, test_index in kf.split(X_tr, y_tr): # vraci dvojici poli testovacich a trenovacich indexu\n",
    "  # rozdel si data na trenovaci a na data, na kterych bude ohodnocen klasifikator\n",
    "  X_fold_tr = X_tr.values[train_index]\n",
    "  y_fold_tr = y_tr[train_index]\n",
    "  X_fold_test = X_tr.values[test_index]\n",
    "  y_fold_test = y_tr[test_index]\n",
    "  for k, pipe in pipes.items(): # pro kazdou pipe, delej\n",
    "    pipe.fit(X_fold_tr, y_fold_tr) # nauc\n",
    "    results[k].append(pipe.score(X_fold_test,y_fold_test)) # uloz si accuracy\n",
    "    print(train_index,k)\n",
    "#udelej si dataframe pro zhodnoceni\n",
    "results = pd.DataFrame(data = results)\n",
    "print(results) # tiskni za jednoltive foldy uspesnost klasifikatoru\n",
    "print(results.mean()) # tiskni prumer\n",
    "\n",
    "f1_results = {}\n",
    "\n",
    "# Add the classification report and F1-score\n",
    "for k, pipe in pipes.items():\n",
    "    pipe.fit(X_tr, y_tr)\n",
    "    y_pred_test = pipe.predict(X_test)\n",
    "    f1 = f1_score(y_test, y_pred_test)  # You can change 'weighted' based on your requirement\n",
    "    f1_results[k] = f1  # Store the F1-score\n",
    "    \n",
    "    print(f\"Classification Report for {k}\")\n",
    "    print(classification_report(y_test, y_pred_test))\n",
    "    print(f\"F1-Score for {k}: {f1}\")\n",
    "\n",
    "# Convert F1-score results to DataFrame for better visualization\n",
    "f1_results_df = pd.DataFrame(list(f1_results.items()), columns=['Pipeline', 'F1-Score'])\n",
    "print(f1_results_df)"
   ]
  },
  {
   "cell_type": "code",
   "execution_count": 29,
   "metadata": {},
   "outputs": [
    {
     "name": "stdout",
     "output_type": "stream",
     "text": [
      "[   0    1    2 ... 6405 6406 6408] pipe_mm_XGB\n",
      "[   0    1    2 ... 6405 6406 6408] pipe_mm_Cat\n",
      "[   1    4    5 ... 6405 6407 6408] pipe_mm_XGB\n",
      "[   1    4    5 ... 6405 6407 6408] pipe_mm_Cat\n",
      "[   0    1    2 ... 6404 6406 6407] pipe_mm_XGB\n",
      "[   0    1    2 ... 6404 6406 6407] pipe_mm_Cat\n",
      "[   0    2    3 ... 6406 6407 6408] pipe_mm_XGB\n",
      "[   0    2    3 ... 6406 6407 6408] pipe_mm_Cat\n",
      "[   0    1    2 ... 6406 6407 6408] pipe_mm_XGB\n",
      "[   0    1    2 ... 6406 6407 6408] pipe_mm_Cat\n",
      "   pipe_mm_XGB  pipe_mm_Cat\n",
      "0     0.950078     0.950858\n",
      "1     0.944618     0.945398\n",
      "2     0.947738     0.952418\n",
      "3     0.959438     0.961778\n",
      "4     0.948478     0.953162\n",
      "pipe_mm_XGB    0.950070\n",
      "pipe_mm_Cat    0.952723\n",
      "dtype: float64\n",
      "Classification Report for pipe_mm_XGB\n",
      "              precision    recall  f1-score   support\n",
      "\n",
      "           0       0.96      0.99      0.98      1479\n",
      "           1       0.85      0.53      0.65       124\n",
      "\n",
      "    accuracy                           0.96      1603\n",
      "   macro avg       0.90      0.76      0.82      1603\n",
      "weighted avg       0.95      0.96      0.95      1603\n",
      "\n",
      "F1-Score for pipe_mm_XGB: 0.6534653465346534\n",
      "Classification Report for pipe_mm_Cat\n",
      "              precision    recall  f1-score   support\n",
      "\n",
      "           0       0.96      1.00      0.98      1479\n",
      "           1       0.90      0.52      0.66       124\n",
      "\n",
      "    accuracy                           0.96      1603\n",
      "   macro avg       0.93      0.76      0.82      1603\n",
      "weighted avg       0.96      0.96      0.95      1603\n",
      "\n",
      "F1-Score for pipe_mm_Cat: 0.6564102564102563\n",
      "      Pipeline  F1-Score\n",
      "0  pipe_mm_XGB  0.653465\n",
      "1  pipe_mm_Cat  0.656410\n"
     ]
    }
   ],
   "source": [
    "import catboost as cb\n",
    "import xgboost as xgb\n",
    "\n",
    "seed = 420\n",
    "y = preprocessing.LabelEncoder().fit_transform(df_final['art_annotation'])\n",
    "X = df_final\n",
    "X = X.drop('art_annotation',axis = 1)\n",
    "X = X.drop('icp_annotation',axis = 1)\n",
    "X = X.drop('StartTime',axis = 1)\n",
    "X = X.drop('EndTime',axis = 1)\n",
    "X_tr, X_test, y_tr, y_test = train_test_split(X, y, test_size=0.2, random_state=seed, stratify=y)\n",
    "\n",
    "pipe_mm_xcb = Pipeline([('scaler', MinMaxScaler()),('classifier', xgb.XGBClassifier(n_estimators=500, max_depth=16))])\n",
    "pipe_mm_cat = Pipeline([('scaler', MinMaxScaler()),('classifier', cb.CatBoostClassifier(random_state=seed, verbose = 0))])\n",
    "\n",
    "pipes = {\"pipe_mm_XGB\":pipe_mm_xcb,\"pipe_mm_Cat\":pipe_mm_cat}\n",
    "# pro kazdou rouru si budeme drzet vysledky\n",
    "results = { pipe_name: [] for pipe_name in pipes.keys()}\n",
    "# rozdelime si data na trenovaci, ktere budeme delit dale, a testovaci, na kterych pak ukazeme chovani\n",
    "X_tr, X_test, y_tr, y_test = train_test_split(X,y, test_size=0.2,random_state=seed) # testovaci data zatim nepouzijeme\n",
    "# trenovaci mnozinu budeme delit dale na 5 podmnozin\n",
    "kf = KFold(n_splits=5, shuffle=True)\n",
    "for train_index, test_index in kf.split(X_tr, y_tr): # vraci dvojici poli testovacich a trenovacich indexu\n",
    "  # rozdel si data na trenovaci a na data, na kterych bude ohodnocen klasifikator\n",
    "  X_fold_tr = X_tr.values[train_index]\n",
    "  y_fold_tr = y_tr[train_index]\n",
    "  X_fold_test = X_tr.values[test_index]\n",
    "  y_fold_test = y_tr[test_index]\n",
    "  for k, pipe in pipes.items(): # pro kazdou pipe, delej\n",
    "    pipe.fit(X_fold_tr, y_fold_tr) # nauc\n",
    "    results[k].append(pipe.score(X_fold_test,y_fold_test)) # uloz si accuracy\n",
    "    print(train_index,k)\n",
    "#udelej si dataframe pro zhodnoceni\n",
    "results = pd.DataFrame(data = results)\n",
    "print(results) # tiskni za jednoltive foldy uspesnost klasifikatoru\n",
    "print(results.mean()) # tiskni prumer\n",
    "\n",
    "f1_results = {}\n",
    "\n",
    "# Add the classification report and F1-score\n",
    "for k, pipe in pipes.items():\n",
    "    pipe.fit(X_tr, y_tr)\n",
    "    y_pred_test = pipe.predict(X_test)\n",
    "    f1 = f1_score(y_test, y_pred_test)  # You can change 'weighted' based on your requirement\n",
    "    f1_results[k] = f1  # Store the F1-score\n",
    "    \n",
    "    print(f\"Classification Report for {k}\")\n",
    "    print(classification_report(y_test, y_pred_test))\n",
    "    print(f\"F1-Score for {k}: {f1}\")\n",
    "\n",
    "# Convert F1-score results to DataFrame for better visualization\n",
    "f1_results_df = pd.DataFrame(list(f1_results.items()), columns=['Pipeline', 'F1-Score'])\n",
    "print(f1_results_df)"
   ]
  },
  {
   "cell_type": "code",
   "execution_count": 30,
   "metadata": {},
   "outputs": [],
   "source": [
    "import pandas as pd\n",
    "import cv2\n",
    "import numpy as np\n",
    "import tensorflow as tf\n",
    "import matplotlib.pyplot as plt\n",
    "from scipy import stats\n",
    "from keras.utils import to_categorical\n",
    "from sklearn import preprocessing\n",
    "from sklearn.model_selection import train_test_split\n",
    "from sklearn.preprocessing import StandardScaler, MinMaxScaler, Normalizer # tri druhy skalovani\n",
    "import os\n",
    "from sklearn.metrics import accuracy_score\n",
    "from sklearn.metrics import classification_report"
   ]
  },
  {
   "cell_type": "code",
   "execution_count": null,
   "metadata": {},
   "outputs": [],
   "source": [
    "X_n = X\n",
    "scaler = MinMaxScaler()\n",
    "\n",
    "X_n = scaler.fit_transform(X_n)\n",
    "\n",
    "# Splitting data into training and testing\n",
    "X_train, X_test, y_train, y_test = train_test_split(X_n, y, test_size=0.1, random_state=420)\n",
    "\n",
    "# Create the neural network model\n",
    "neural_model = tf.keras.Sequential([\n",
    "    tf.keras.layers.Dense(1024, input_shape = X_train.shape[1:], activation='relu'),\n",
    "    tf.keras.layers.Dense(512, activation='relu'),\n",
    "    tf.keras.layers.Dense(256, activation='relu'),\n",
    "    tf.keras.layers.Dense(128, activation='relu'),\n",
    "    tf.keras.layers.Dense(64, activation='relu'),\n",
    "    tf.keras.layers.Dense(32, activation='relu'),\n",
    "    tf.keras.layers.Dense(1, activation='sigmoid')  # binary classification\n",
    "])\n",
    "\n",
    "neural_model.compile(optimizer='adam', loss='binary_crossentropy', metrics=['accuracy'])\n",
    "\n",
    "# Train the model\n",
    "history = neural_model.fit(X_train, y_train, epochs=100, batch_size=32, validation_data=(X_test, y_test))"
   ]
  },
  {
   "cell_type": "code",
   "execution_count": 38,
   "metadata": {},
   "outputs": [
    {
     "name": "stdout",
     "output_type": "stream",
     "text": [
      "26/26 [==============================] - 0s 5ms/step - loss: 0.2977 - accuracy: 0.9127\n",
      "Test Accuracy: 91.27%\n"
     ]
    },
    {
     "data": {
      "image/png": "[encoded data removed]",
      "text/plain": [
       "<Figure size 1200x400 with 2 Axes>"
      ]
     },
     "metadata": {},
     "output_type": "display_data"
    }
   ],
   "source": [
    "plt.rcParams[\"figure.figsize\"] = [12,4]\n",
    "figure, axis = plt.subplots(1, 2)\n",
    "axis[0].plot(history.history['accuracy'], label='accuracy - treninkova data')\n",
    "axis[0].plot(history.history['val_accuracy'], label='accuracy - neznama data')\n",
    "axis[0].grid()\n",
    "axis[0].set_title('Accuracy')\n",
    "axis[0].legend()\n",
    "\n",
    "axis[1].plot(history.history['loss'], label='loss - treninkova data')\n",
    "axis[1].plot(history.history['val_loss'], label='loss - neznama data')\n",
    "axis[1].grid()\n",
    "axis[1].set_title('Loss')\n",
    "axis[1].legend()\n",
    "\n",
    "loss, accuracy = neural_model.evaluate(X_test, y_test)\n",
    "print(f\"Test Accuracy: {accuracy * 100:.2f}%\")\n"
   ]
  },
  {
   "cell_type": "code",
   "execution_count": 41,
   "metadata": {},
   "outputs": [
    {
     "name": "stdout",
     "output_type": "stream",
     "text": [
      "[   0    4    5 ... 6403 6405 6406] pipe_mm_XGB\n"
     ]
    },
    {
     "ename": "KeyboardInterrupt",
     "evalue": "",
     "output_type": "error",
     "traceback": [
      "\u001b[1;31m---------------------------------------------------------------------------\u001b[0m",
      "\u001b[1;31mKeyboardInterrupt\u001b[0m                         Traceback (most recent call last)",
      "\u001b[1;32mc:\\Users\\HP GAMING\\Desktop\\Hackithon2023\\hacktesting.ipynb Cell 24\u001b[0m line \u001b[0;36m4\n\u001b[0;32m     <a href='vscode-notebook-cell:/c%3A/Users/HP%20GAMING/Desktop/Hackithon2023/hacktesting.ipynb#X40sZmlsZQ%3D%3D?line=45'>46</a>\u001b[0m y_fold_test \u001b[39m=\u001b[39m y_tr[test_index]\n\u001b[0;32m     <a href='vscode-notebook-cell:/c%3A/Users/HP%20GAMING/Desktop/Hackithon2023/hacktesting.ipynb#X40sZmlsZQ%3D%3D?line=46'>47</a>\u001b[0m \u001b[39mfor\u001b[39;00m k, pipe \u001b[39min\u001b[39;00m pipes\u001b[39m.\u001b[39mitems(): \u001b[39m# pro kazdou pipe, delej\u001b[39;00m\n\u001b[1;32m---> <a href='vscode-notebook-cell:/c%3A/Users/HP%20GAMING/Desktop/Hackithon2023/hacktesting.ipynb#X40sZmlsZQ%3D%3D?line=47'>48</a>\u001b[0m   pipe\u001b[39m.\u001b[39;49mfit(X_fold_tr, y_fold_tr) \u001b[39m# nauc\u001b[39;00m\n\u001b[0;32m     <a href='vscode-notebook-cell:/c%3A/Users/HP%20GAMING/Desktop/Hackithon2023/hacktesting.ipynb#X40sZmlsZQ%3D%3D?line=48'>49</a>\u001b[0m   results[k]\u001b[39m.\u001b[39mappend(pipe\u001b[39m.\u001b[39mscore(X_fold_test,y_fold_test)) \u001b[39m# uloz si accuracy\u001b[39;00m\n\u001b[0;32m     <a href='vscode-notebook-cell:/c%3A/Users/HP%20GAMING/Desktop/Hackithon2023/hacktesting.ipynb#X40sZmlsZQ%3D%3D?line=49'>50</a>\u001b[0m   \u001b[39mprint\u001b[39m(train_index,k)\n",
      "File \u001b[1;32mc:\\Users\\HP GAMING\\AppData\\Local\\Programs\\Python\\Python39\\lib\\site-packages\\sklearn\\pipeline.py:405\u001b[0m, in \u001b[0;36mPipeline.fit\u001b[1;34m(self, X, y, **fit_params)\u001b[0m\n\u001b[0;32m    403\u001b[0m     \u001b[39mif\u001b[39;00m \u001b[39mself\u001b[39m\u001b[39m.\u001b[39m_final_estimator \u001b[39m!=\u001b[39m \u001b[39m\"\u001b[39m\u001b[39mpassthrough\u001b[39m\u001b[39m\"\u001b[39m:\n\u001b[0;32m    404\u001b[0m         fit_params_last_step \u001b[39m=\u001b[39m fit_params_steps[\u001b[39mself\u001b[39m\u001b[39m.\u001b[39msteps[\u001b[39m-\u001b[39m\u001b[39m1\u001b[39m][\u001b[39m0\u001b[39m]]\n\u001b[1;32m--> 405\u001b[0m         \u001b[39mself\u001b[39m\u001b[39m.\u001b[39m_final_estimator\u001b[39m.\u001b[39mfit(Xt, y, \u001b[39m*\u001b[39m\u001b[39m*\u001b[39mfit_params_last_step)\n\u001b[0;32m    407\u001b[0m \u001b[39mreturn\u001b[39;00m \u001b[39mself\u001b[39m\n",
      "File \u001b[1;32mc:\\Users\\HP GAMING\\AppData\\Local\\Programs\\Python\\Python39\\lib\\site-packages\\catboost\\core.py:5128\u001b[0m, in \u001b[0;36mCatBoostClassifier.fit\u001b[1;34m(self, X, y, cat_features, text_features, embedding_features, sample_weight, baseline, use_best_model, eval_set, verbose, logging_level, plot, plot_file, column_description, verbose_eval, metric_period, silent, early_stopping_rounds, save_snapshot, snapshot_file, snapshot_interval, init_model, callbacks, log_cout, log_cerr)\u001b[0m\n\u001b[0;32m   5125\u001b[0m \u001b[39mif\u001b[39;00m \u001b[39m'\u001b[39m\u001b[39mloss_function\u001b[39m\u001b[39m'\u001b[39m \u001b[39min\u001b[39;00m params:\n\u001b[0;32m   5126\u001b[0m     CatBoostClassifier\u001b[39m.\u001b[39m_check_is_compatible_loss(params[\u001b[39m'\u001b[39m\u001b[39mloss_function\u001b[39m\u001b[39m'\u001b[39m])\n\u001b[1;32m-> 5128\u001b[0m \u001b[39mself\u001b[39;49m\u001b[39m.\u001b[39;49m_fit(X, y, cat_features, text_features, embedding_features, \u001b[39mNone\u001b[39;49;00m, sample_weight, \u001b[39mNone\u001b[39;49;00m, \u001b[39mNone\u001b[39;49;00m, \u001b[39mNone\u001b[39;49;00m, \u001b[39mNone\u001b[39;49;00m, baseline, use_best_model,\n\u001b[0;32m   5129\u001b[0m           eval_set, verbose, logging_level, plot, plot_file, column_description, verbose_eval, metric_period,\n\u001b[0;32m   5130\u001b[0m           silent, early_stopping_rounds, save_snapshot, snapshot_file, snapshot_interval, init_model, callbacks, log_cout, log_cerr)\n\u001b[0;32m   5131\u001b[0m \u001b[39mreturn\u001b[39;00m \u001b[39mself\u001b[39m\n",
      "File \u001b[1;32mc:\\Users\\HP GAMING\\AppData\\Local\\Programs\\Python\\Python39\\lib\\site-packages\\catboost\\core.py:2355\u001b[0m, in \u001b[0;36mCatBoost._fit\u001b[1;34m(self, X, y, cat_features, text_features, embedding_features, pairs, sample_weight, group_id, group_weight, subgroup_id, pairs_weight, baseline, use_best_model, eval_set, verbose, logging_level, plot, plot_file, column_description, verbose_eval, metric_period, silent, early_stopping_rounds, save_snapshot, snapshot_file, snapshot_interval, init_model, callbacks, log_cout, log_cerr)\u001b[0m\n\u001b[0;32m   2351\u001b[0m allow_clear_pool \u001b[39m=\u001b[39m train_params[\u001b[39m\"\u001b[39m\u001b[39mallow_clear_pool\u001b[39m\u001b[39m\"\u001b[39m]\n\u001b[0;32m   2353\u001b[0m \u001b[39mwith\u001b[39;00m log_fixup(log_cout, log_cerr), \\\n\u001b[0;32m   2354\u001b[0m     plot_wrapper(plot, plot_file, \u001b[39m'\u001b[39m\u001b[39mTraining plots\u001b[39m\u001b[39m'\u001b[39m, [_get_train_dir(\u001b[39mself\u001b[39m\u001b[39m.\u001b[39mget_params())]):\n\u001b[1;32m-> 2355\u001b[0m     \u001b[39mself\u001b[39;49m\u001b[39m.\u001b[39;49m_train(\n\u001b[0;32m   2356\u001b[0m         train_pool,\n\u001b[0;32m   2357\u001b[0m         train_params[\u001b[39m\"\u001b[39;49m\u001b[39meval_sets\u001b[39;49m\u001b[39m\"\u001b[39;49m],\n\u001b[0;32m   2358\u001b[0m         params,\n\u001b[0;32m   2359\u001b[0m         allow_clear_pool,\n\u001b[0;32m   2360\u001b[0m         train_params[\u001b[39m\"\u001b[39;49m\u001b[39minit_model\u001b[39;49m\u001b[39m\"\u001b[39;49m]\n\u001b[0;32m   2361\u001b[0m     )\n\u001b[0;32m   2363\u001b[0m \u001b[39m# Have property feature_importance possibly set\u001b[39;00m\n\u001b[0;32m   2364\u001b[0m loss \u001b[39m=\u001b[39m \u001b[39mself\u001b[39m\u001b[39m.\u001b[39m_object\u001b[39m.\u001b[39m_get_loss_function_name()\n",
      "File \u001b[1;32mc:\\Users\\HP GAMING\\AppData\\Local\\Programs\\Python\\Python39\\lib\\site-packages\\catboost\\core.py:1759\u001b[0m, in \u001b[0;36m_CatBoostBase._train\u001b[1;34m(self, train_pool, test_pool, params, allow_clear_pool, init_model)\u001b[0m\n\u001b[0;32m   1758\u001b[0m \u001b[39mdef\u001b[39;00m \u001b[39m_train\u001b[39m(\u001b[39mself\u001b[39m, train_pool, test_pool, params, allow_clear_pool, init_model):\n\u001b[1;32m-> 1759\u001b[0m     \u001b[39mself\u001b[39;49m\u001b[39m.\u001b[39;49m_object\u001b[39m.\u001b[39;49m_train(train_pool, test_pool, params, allow_clear_pool, init_model\u001b[39m.\u001b[39;49m_object \u001b[39mif\u001b[39;49;00m init_model \u001b[39melse\u001b[39;49;00m \u001b[39mNone\u001b[39;49;00m)\n\u001b[0;32m   1760\u001b[0m     \u001b[39mself\u001b[39m\u001b[39m.\u001b[39m_set_trained_model_attributes()\n",
      "File \u001b[1;32m_catboost.pyx:4623\u001b[0m, in \u001b[0;36m_catboost._CatBoost._train\u001b[1;34m()\u001b[0m\n",
      "File \u001b[1;32m_catboost.pyx:4672\u001b[0m, in \u001b[0;36m_catboost._CatBoost._train\u001b[1;34m()\u001b[0m\n",
      "\u001b[1;31mKeyboardInterrupt\u001b[0m: "
     ]
    }
   ],
   "source": [
    "import pandas as pd\n",
    "import numpy as np\n",
    "import matplotlib.pyplot as plt\n",
    "from sklearn import preprocessing\n",
    "from sklearn.model_selection import train_test_split\n",
    "from sklearn.preprocessing import StandardScaler, MinMaxScaler, Normalizer # tri druhy skalovani\n",
    "from sklearn.linear_model import LogisticRegression\n",
    "from sklearn.neighbors import KNeighborsClassifier\n",
    "from sklearn.ensemble import RandomForestClassifier\n",
    "from sklearn.svm import SVC\n",
    "from sklearn.model_selection import train_test_split # pro rozdeleni  dat\n",
    "from sklearn.model_selection import KFold # pouziti cross validace\n",
    "from sklearn.pipeline import Pipeline\n",
    "\n",
    "seed = 420\n",
    "y = preprocessing.LabelEncoder().fit_transform(df_final['art_annotation'])\n",
    "X = df_final\n",
    "X = X.drop('art_annotation',axis = 1)\n",
    "X = X.drop('icp_annotation',axis = 1)\n",
    "X = X.drop('StartTime',axis = 1)\n",
    "X = X.drop('EndTime',axis = 1)\n",
    "X_tr, X_test, y_tr, y_test = train_test_split(X, y, test_size=0.2, random_state=seed, stratify=y)\n",
    "\n",
    "\n",
    "pipe_mm_rf200 = Pipeline([('scaler', MinMaxScaler()),('classifier', RandomForestClassifier(n_estimators=200))])\n",
    "pipe_mm_rf500 = Pipeline([('scaler', MinMaxScaler()),('classifier', RandomForestClassifier(n_estimators=500))])\n",
    "pipe_mm_knn5 = Pipeline([('scaler', MinMaxScaler()),('classifier', KNeighborsClassifier(n_neighbors=5))])\n",
    "pipe_mm_knn7 = Pipeline([('scaler', MinMaxScaler()),('classifier', KNeighborsClassifier(n_neighbors=7))])\n",
    "pipe_mm_knn9 = Pipeline([('scaler', MinMaxScaler()),('classifier', KNeighborsClassifier(n_neighbors=9))])\n",
    "pipe_mm_xcb = Pipeline([('scaler', MinMaxScaler()),('classifier', xgb.XGBClassifier())]) #n_estimators=500, max_depth=16) choose hyperparameters correctly?\n",
    "pipe_mm_cat = Pipeline([('scaler', MinMaxScaler()),('classifier', cb.CatBoostClassifier(random_state=seed, verbose = 0))])\n",
    "\n",
    "pipes = {\"pipe_mm_XGB\":pipe_mm_xcb,\"pipe_mm_Cat\":pipe_mm_cat,\"pipe_mm_rf200\":pipe_mm_rf200,\"pipe_mm_rf500\":pipe_mm_rf500,\n",
    "\"pipe_mm_knn5\":pipe_mm_knn5,\"pipe_mm_knn7\":pipe_mm_knn7,\"pipe_mm_knn9\":pipe_mm_knn9}\n",
    "# pro kazdou rouru si budeme drzet vysledky\n",
    "results = { pipe_name: [] for pipe_name in pipes.keys()}\n",
    "# rozdelime si data na trenovaci, ktere budeme delit dale, a testovaci, na kterych pak ukazeme chovani\n",
    "X_tr, X_test, y_tr, y_test = train_test_split(X,y, test_size=0.2,random_state=seed) # testovaci data zatim nepouzijeme\n",
    "# trenovaci mnozinu budeme delit dale na 5 podmnozin\n",
    "kf = KFold(n_splits=5, shuffle=True)\n",
    "for train_index, test_index in kf.split(X_tr, y_tr): # vraci dvojici poli testovacich a trenovacich indexu\n",
    "  # rozdel si data na trenovaci a na data, na kterych bude ohodnocen klasifikator\n",
    "  X_fold_tr = X_tr.values[train_index]\n",
    "  y_fold_tr = y_tr[train_index]\n",
    "  X_fold_test = X_tr.values[test_index]\n",
    "  y_fold_test = y_tr[test_index]\n",
    "  for k, pipe in pipes.items(): # pro kazdou pipe, delej\n",
    "    pipe.fit(X_fold_tr, y_fold_tr) # nauc\n",
    "    results[k].append(pipe.score(X_fold_test,y_fold_test)) # uloz si accuracy\n",
    "    print(train_index,k)\n",
    "#udelej si dataframe pro zhodnoceni\n",
    "results = pd.DataFrame(data = results)\n",
    "print(results) # tiskni za jednoltive foldy uspesnost klasifikatoru\n",
    "print(results.mean()) # tiskni prumer\n",
    "\n",
    "f1_results = {}\n",
    "\n",
    "# Add the classification report and F1-score\n",
    "for k, pipe in pipes.items():\n",
    "    pipe.fit(X_tr, y_tr)\n",
    "    y_pred_test = pipe.predict(X_test)\n",
    "    f1 = f1_score(y_test, y_pred_test)  # You can change 'weighted' based on your requirement\n",
    "    f1_results[k] = f1  # Store the F1-score\n",
    "    \n",
    "    print(f\"Classification Report for {k}\")\n",
    "    print(classification_report(y_test, y_pred_test))\n",
    "    print(f\"F1-Score for {k}: {f1}\")\n",
    "\n",
    "# Convert F1-score results to DataFrame for better visualization\n",
    "f1_results_df = pd.DataFrame(list(f1_results.items()), columns=['Pipeline', 'F1-Score'])\n",
    "print(f1_results_df)"
   ]
  },
  {
   "cell_type": "code",
   "execution_count": null,
   "metadata": {},
   "outputs": [],
   "source": []
  }
 ],
 "metadata": {
  "kernelspec": {
   "display_name": "Python 3",
   "language": "python",
   "name": "python3"
  },
  "language_info": {
   "codemirror_mode": {
    "name": "ipython",
    "version": 3
   },
   "file_extension": ".py",
   "mimetype": "text/x-python",
   "name": "python",
   "nbconvert_exporter": "python",
   "pygments_lexer": "ipython3",
   "version": "3.9.10"
  },
  "orig_nbformat": 4
 },
 "nbformat": 4,
 "nbformat_minor": 2
}
