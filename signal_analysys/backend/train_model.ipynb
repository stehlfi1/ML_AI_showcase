{
 "cells": [
  {
   "cell_type": "code",
   "execution_count": 11,
   "metadata": {},
   "outputs": [],
   "source": [
    "import pandas as pd\n",
    "import numpy as np\n",
    "from sklearn.model_selection import train_test_split\n",
    "from sklearn.preprocessing import StandardScaler, MinMaxScaler, Normalizer # tri druhy skalovani\n",
    "from sklearn.neighbors import KNeighborsClassifier\n",
    "from sklearn.model_selection import KFold # pouziti cross validace\n",
    "from sklearn.pipeline import Pipeline\n",
    "import xgboost as xgb\n",
    "from sklearn.metrics import classification_report, f1_score\n",
    "import pickle"
   ]
  },
  {
   "cell_type": "code",
   "execution_count": 6,
   "metadata": {},
   "outputs": [],
   "source": [
    "data = pd.read_csv(\"../data/final_dataset2.csv\")\n",
    "y = data['art_annotation']\n",
    "\n",
    "X = data.drop('art_annotation', axis=1).drop('icp_annotation', axis=1).drop('StartTime', axis=1).drop('EndTime', axis=1)\n",
    "\n",
    "X_train=X.iloc[:6000]\n",
    "X_test=X.iloc[6000:]\n",
    "y_train=y.iloc[:6000]\n",
    "y_test=y.iloc[6000:]"
   ]
  },
  {
   "cell_type": "code",
   "execution_count": 7,
   "metadata": {},
   "outputs": [],
   "source": [
    "pipe_mm_knn5 = Pipeline([('scaler', MinMaxScaler()),('classifier', KNeighborsClassifier(n_neighbors=5))])\n",
    "pipe_mm_xcb = Pipeline([('scaler', MinMaxScaler()),('classifier', xgb.XGBClassifier())]) \n",
    "pipes = {\"pipe_mm_XGB\":pipe_mm_xcb,\"pipe_mm_knn5\":pipe_mm_knn5}"
   ]
  },
  {
   "cell_type": "code",
   "execution_count": 9,
   "metadata": {},
   "outputs": [
    {
     "name": "stderr",
     "output_type": "stream",
     "text": [
      "c:\\Users\\elisk\\AppData\\Local\\Programs\\Python\\Python311\\Lib\\site-packages\\xgboost\\data.py:520: FutureWarning: is_sparse is deprecated and will be removed in a future version. Check `isinstance(dtype, pd.SparseDtype)` instead.\n",
      "  if is_sparse(data):\n"
     ]
    },
    {
     "name": "stdout",
     "output_type": "stream",
     "text": [
      "[   0    1    3 ... 5996 5998 5999] pipe_mm_XGB\n",
      "[   0    1    3 ... 5996 5998 5999] pipe_mm_knn5\n"
     ]
    },
    {
     "name": "stderr",
     "output_type": "stream",
     "text": [
      "c:\\Users\\elisk\\AppData\\Local\\Programs\\Python\\Python311\\Lib\\site-packages\\xgboost\\data.py:520: FutureWarning: is_sparse is deprecated and will be removed in a future version. Check `isinstance(dtype, pd.SparseDtype)` instead.\n",
      "  if is_sparse(data):\n"
     ]
    },
    {
     "name": "stdout",
     "output_type": "stream",
     "text": [
      "[   0    1    2 ... 5995 5996 5997] pipe_mm_XGB\n",
      "[   0    1    2 ... 5995 5996 5997] pipe_mm_knn5\n"
     ]
    },
    {
     "name": "stderr",
     "output_type": "stream",
     "text": [
      "c:\\Users\\elisk\\AppData\\Local\\Programs\\Python\\Python311\\Lib\\site-packages\\xgboost\\data.py:520: FutureWarning: is_sparse is deprecated and will be removed in a future version. Check `isinstance(dtype, pd.SparseDtype)` instead.\n",
      "  if is_sparse(data):\n"
     ]
    },
    {
     "name": "stdout",
     "output_type": "stream",
     "text": [
      "[   0    2    5 ... 5997 5998 5999] pipe_mm_XGB\n",
      "[   0    2    5 ... 5997 5998 5999] pipe_mm_knn5\n"
     ]
    },
    {
     "name": "stderr",
     "output_type": "stream",
     "text": [
      "c:\\Users\\elisk\\AppData\\Local\\Programs\\Python\\Python311\\Lib\\site-packages\\xgboost\\data.py:520: FutureWarning: is_sparse is deprecated and will be removed in a future version. Check `isinstance(dtype, pd.SparseDtype)` instead.\n",
      "  if is_sparse(data):\n"
     ]
    },
    {
     "name": "stdout",
     "output_type": "stream",
     "text": [
      "[   0    1    2 ... 5997 5998 5999] pipe_mm_XGB\n",
      "[   0    1    2 ... 5997 5998 5999] pipe_mm_knn5\n"
     ]
    },
    {
     "name": "stderr",
     "output_type": "stream",
     "text": [
      "c:\\Users\\elisk\\AppData\\Local\\Programs\\Python\\Python311\\Lib\\site-packages\\xgboost\\data.py:520: FutureWarning: is_sparse is deprecated and will be removed in a future version. Check `isinstance(dtype, pd.SparseDtype)` instead.\n",
      "  if is_sparse(data):\n"
     ]
    },
    {
     "name": "stdout",
     "output_type": "stream",
     "text": [
      "[   1    2    3 ... 5997 5998 5999] pipe_mm_XGB\n",
      "[   1    2    3 ... 5997 5998 5999] pipe_mm_knn5\n",
      "   pipe_mm_XGB  pipe_mm_knn5\n",
      "0     0.973333      0.971667\n",
      "1     0.964167      0.961667\n",
      "2     0.979167      0.983333\n",
      "3     0.966667      0.971667\n",
      "4     0.971667      0.971667\n",
      "pipe_mm_XGB     0.971\n",
      "pipe_mm_knn5    0.972\n",
      "dtype: float64\n"
     ]
    },
    {
     "name": "stderr",
     "output_type": "stream",
     "text": [
      "c:\\Users\\elisk\\AppData\\Local\\Programs\\Python\\Python311\\Lib\\site-packages\\xgboost\\data.py:520: FutureWarning: is_sparse is deprecated and will be removed in a future version. Check `isinstance(dtype, pd.SparseDtype)` instead.\n",
      "  if is_sparse(data):\n"
     ]
    },
    {
     "name": "stdout",
     "output_type": "stream",
     "text": [
      "Classification Report for pipe_mm_XGB\n",
      "              precision    recall  f1-score   support\n",
      "\n",
      "           0       0.87      0.92      0.90      1525\n",
      "           1       0.70      0.57      0.63       487\n",
      "\n",
      "    accuracy                           0.84      2012\n",
      "   macro avg       0.78      0.75      0.76      2012\n",
      "weighted avg       0.83      0.84      0.83      2012\n",
      "\n",
      "F1-Score for pipe_mm_XGB: 0.6274065685164214\n",
      "Classification Report for pipe_mm_knn5\n",
      "              precision    recall  f1-score   support\n",
      "\n",
      "           0       0.88      0.98      0.93      1525\n",
      "           1       0.90      0.59      0.71       487\n",
      "\n",
      "    accuracy                           0.88      2012\n",
      "   macro avg       0.89      0.78      0.82      2012\n",
      "weighted avg       0.89      0.88      0.87      2012\n",
      "\n",
      "F1-Score for pipe_mm_knn5: 0.7098381070983809\n",
      "       Pipeline  F1-Score\n",
      "0   pipe_mm_XGB  0.627407\n",
      "1  pipe_mm_knn5  0.709838\n"
     ]
    }
   ],
   "source": [
    "# pro kazdou rouru si budeme drzet vysledky\n",
    "results = { pipe_name: [] for pipe_name in pipes.keys()}\n",
    "# trenovaci mnozinu budeme delit dale na 5 podmnozin\n",
    "kf = KFold(n_splits=5, shuffle=True)\n",
    "for train_index, test_index in kf.split(X_train, y_train): # vraci dvojici poli testovacich a trenovacich indexu\n",
    "  # rozdel si data na trenovaci a na data, na kterych bude ohodnocen klasifikator\n",
    "  X_fold_tr = X_train.values[train_index]\n",
    "  y_fold_tr = y_train[train_index]\n",
    "  X_fold_test = X_train.values[test_index]\n",
    "  y_fold_test = y_train[test_index]\n",
    "  for k, pipe in pipes.items(): # pro kazdou pipe, delej\n",
    "    pipe.fit(X_fold_tr, y_fold_tr) # nauc\n",
    "    results[k].append(pipe.score(X_fold_test,y_fold_test)) # uloz si accuracy\n",
    "    print(train_index,k)\n",
    "#udelej si dataframe pro zhodnoceni\n",
    "results = pd.DataFrame(data = results)\n",
    "print(results) # tiskni za jednoltive foldy uspesnost klasifikatoru\n",
    "print(results.mean()) # tiskni prumer\n",
    "\n",
    "f1_results = {}\n",
    "\n",
    "# Add the classification report and F1-score\n",
    "for k, pipe in pipes.items():\n",
    "    pipe.fit(X_train, y_train)\n",
    "    y_pred_test = pipe.predict(X_test)\n",
    "    f1 = f1_score(y_test, y_pred_test)  # You can change 'weighted' based on your requirement\n",
    "    f1_results[k] = f1  # Store the F1-score\n",
    "    \n",
    "    print(f\"Classification Report for {k}\")\n",
    "    print(classification_report(y_test, y_pred_test))\n",
    "    print(f\"F1-Score for {k}: {f1}\")\n",
    "\n",
    "# Convert F1-score results to DataFrame for better visualization\n",
    "f1_results_df = pd.DataFrame(list(f1_results.items()), columns=['Pipeline', 'F1-Score'])\n",
    "print(f1_results_df)"
   ]
  },
  {
   "cell_type": "code",
   "execution_count": 13,
   "metadata": {},
   "outputs": [],
   "source": [
    "for k, pipe in pipes.items():\n",
    "    filename = f'finalized_model_{k}.sav'\n",
    "    pickle.dump(pipe, open(filename, 'wb'))"
   ]
  }
 ],
 "metadata": {
  "kernelspec": {
   "display_name": "Python 3",
   "language": "python",
   "name": "python3"
  },
  "language_info": {
   "codemirror_mode": {
    "name": "ipython",
    "version": 3
   },
   "file_extension": ".py",
   "mimetype": "text/x-python",
   "name": "python",
   "nbconvert_exporter": "python",
   "pygments_lexer": "ipython3",
   "version": "3.11.2"
  },
  "orig_nbformat": 4
 },
 "nbformat": 4,
 "nbformat_minor": 2
}
