{
 "cells": [
  {
   "cell_type": "code",
   "execution_count": null,
   "metadata": {},
   "outputs": [],
   "source": [
    "import pickle\n",
    "import h5py\n",
    "import math\n",
    "import numpy as np\n",
    "import pandas as pd\n",
    "import datetime\n",
    "\n",
    "def create_dataset(file):\n",
    "    f = h5py.File(file,'r')\n",
    "    dset = f['/waves/art']\n",
    "    indices=f['/waves/art'].attrs[\"index\"][0]\n",
    "    min_idx=indices[0]\n",
    "    max_idx=math.floor(indices[2]/1000) * 1000\n",
    "    dset=dset[min_idx:max_idx]\n",
    "    reshaped_dset=np.array(dset).reshape(int((indices[2])/(indices[3]*10)), int(indices[3])*10) # because 10 second data\n",
    "    df_wave = pd.DataFrame(reshaped_dset, columns=[f'feature_{i}' for i in range(1000)])\n",
    "    return df_wave, indices\n",
    "\n",
    "def predict_target(model, dataset, indices):\n",
    "    # load the model from disk\n",
    "    loaded_model = pickle.load(open(model, 'rb'))\n",
    "    predictions=loaded_model.predict(dataset)\n",
    "    dataset[\"predicted_annotation\"] = predictions.tolist()\n",
    "    dataset=pd.concat([generate_times(indices).T, dataset], axis=1)\n",
    "    return dataset\n",
    "\n",
    "\n",
    "def generate_times(indices):\n",
    "    dt_time = datetime.datetime.fromtimestamp(indices[1]/1000000)\n",
    "    return pd.Series(pd.date_range(start=dt_time, periods=int((indices[2])/(indices[3]*10)), freq=f\"{1000000/indices[3]}ms\"))"
   ]
  },
  {
   "cell_type": "code",
   "execution_count": null,
   "metadata": {},
   "outputs": [],
   "source": [
    "create_dataset(\"../data/TBI_003.hdf5\")\n",
    "pre"
   ]
  },
  {
   "cell_type": "code",
   "execution_count": null,
   "metadata": {},
   "outputs": [],
   "source": []
  }
 ],
 "metadata": {
  "language_info": {
   "name": "python"
  },
  "orig_nbformat": 4
 },
 "nbformat": 4,
 "nbformat_minor": 2
}
