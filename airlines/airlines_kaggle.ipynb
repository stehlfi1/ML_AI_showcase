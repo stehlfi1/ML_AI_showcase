{
 "cells": [
  {
   "attachments": {},
   "cell_type": "markdown",
   "metadata": {},
   "source": [
    "# Semestral work for USU\n",
    "### by Filip Stehlík\n"
   ]
  },
  {
   "attachments": {},
   "cell_type": "markdown",
   "metadata": {},
   "source": [
    "https://www.kaggle.com/datasets/jimschacko/airlines-dataset-to-predict-a-delay?datasetId=2285093&sortBy=voteCount  \n",
    "Airport delay dataset.\n",
    "Gett best score."
   ]
  },
  {
   "attachments": {},
   "cell_type": "markdown",
   "metadata": {},
   "source": [
    "##### Imports"
   ]
  },
  {
   "cell_type": "code",
   "execution_count": 3,
   "metadata": {},
   "outputs": [],
   "source": [
    "import pandas as pd\n",
    "import numpy as np\n",
    "import tensorflow as tf\n",
    "import matplotlib.pyplot as plt\n",
    "from scipy import stats\n",
    "from sklearn import preprocessing\n",
    "from sklearn.model_selection import train_test_split\n",
    "from sklearn.preprocessing import StandardScaler, MinMaxScaler, Normalizer # tri druhy skalovani\n",
    "from sklearn.linear_model import LogisticRegression\n",
    "from sklearn.neighbors import KNeighborsClassifier\n",
    "from sklearn.ensemble import RandomForestClassifier\n",
    "from sklearn.linear_model import SGDClassifier\n",
    "from sklearn.svm import SVC\n",
    "from sklearn.model_selection import train_test_split # pro rozdeleni  dat\n",
    "from sklearn.model_selection import KFold # pouziti cross validace\n",
    "from sklearn.pipeline import Pipeline\n",
    "from sklearn.dummy import DummyClassifier\n",
    "import catboost as cb\n",
    "from sklearn import tree\n"
   ]
  },
  {
   "attachments": {},
   "cell_type": "markdown",
   "metadata": {},
   "source": [
    "##### Data load"
   ]
  },
  {
   "cell_type": "code",
   "execution_count": 4,
   "metadata": {},
   "outputs": [],
   "source": [
    "df = pd.read_csv(\"airlines.csv\")"
   ]
  },
  {
   "attachments": {},
   "cell_type": "markdown",
   "metadata": {},
   "source": [
    "##### INFO"
   ]
  },
  {
   "cell_type": "code",
   "execution_count": 4,
   "metadata": {},
   "outputs": [
    {
     "name": "stdout",
     "output_type": "stream",
     "text": [
      "   id Airline  Flight AirportFrom AirportTo  DayOfWeek  Time  Length  Delay\n",
      "0   1      CO     269         SFO       IAH          3    15     205      1\n",
      "1   2      US    1558         PHX       CLT          3    15     222      1\n",
      "2   3      AA    2400         LAX       DFW          3    20     165      1\n",
      "3   4      AA    2466         SFO       DFW          3    20     195      1\n",
      "4   5      AS     108         ANC       SEA          3    30     202      0\n",
      "(539383, 9)\n",
      "<class 'pandas.core.frame.DataFrame'>\n",
      "RangeIndex: 539383 entries, 0 to 539382\n",
      "Data columns (total 9 columns):\n",
      " #   Column       Non-Null Count   Dtype \n",
      "---  ------       --------------   ----- \n",
      " 0   id           539383 non-null  int64 \n",
      " 1   Airline      539383 non-null  object\n",
      " 2   Flight       539383 non-null  int64 \n",
      " 3   AirportFrom  539383 non-null  object\n",
      " 4   AirportTo    539383 non-null  object\n",
      " 5   DayOfWeek    539383 non-null  int64 \n",
      " 6   Time         539383 non-null  int64 \n",
      " 7   Length       539383 non-null  int64 \n",
      " 8   Delay        539383 non-null  int64 \n",
      "dtypes: int64(6), object(3)\n",
      "memory usage: 37.0+ MB\n",
      "None\n",
      "                  id         Flight      DayOfWeek           Time  \\\n",
      "count  539383.000000  539383.000000  539383.000000  539383.000000   \n",
      "mean   269692.000000    2427.928630       3.929668     802.728963   \n",
      "std    155706.604461    2067.429837       1.914664     278.045911   \n",
      "min         1.000000       1.000000       1.000000      10.000000   \n",
      "25%    134846.500000     712.000000       2.000000     565.000000   \n",
      "50%    269692.000000    1809.000000       4.000000     795.000000   \n",
      "75%    404537.500000    3745.000000       5.000000    1035.000000   \n",
      "max    539383.000000    7814.000000       7.000000    1439.000000   \n",
      "\n",
      "              Length          Delay  \n",
      "count  539383.000000  539383.000000  \n",
      "mean      132.202007       0.445442  \n",
      "std        70.117016       0.497015  \n",
      "min         0.000000       0.000000  \n",
      "25%        81.000000       0.000000  \n",
      "50%       115.000000       0.000000  \n",
      "75%       162.000000       1.000000  \n",
      "max       655.000000       1.000000  \n"
     ]
    }
   ],
   "source": [
    "print(df.head())\n",
    "print(df.shape)\n",
    "print(df.info())\n",
    "print(df.describe())\n",
    "col_names = df.columns\n",
    "#print(col_names)"
   ]
  },
  {
   "attachments": {},
   "cell_type": "markdown",
   "metadata": {},
   "source": [
    "##### Exploring dataset"
   ]
  },
  {
   "cell_type": "code",
   "execution_count": 5,
   "metadata": {},
   "outputs": [
    {
     "data": {
      "text/plain": [
       "0    299119\n",
       "1    240264\n",
       "Name: Delay, dtype: int64"
      ]
     },
     "execution_count": 5,
     "metadata": {},
     "output_type": "execute_result"
    }
   ],
   "source": [
    "df['Delay'].value_counts()\n"
   ]
  },
  {
   "cell_type": "code",
   "execution_count": 6,
   "metadata": {},
   "outputs": [
    {
     "data": {
      "text/plain": [
       "293"
      ]
     },
     "execution_count": 6,
     "metadata": {},
     "output_type": "execute_result"
    }
   ],
   "source": [
    "df['AirportFrom'].nunique()"
   ]
  },
  {
   "cell_type": "code",
   "execution_count": 7,
   "metadata": {},
   "outputs": [
    {
     "data": {
      "text/plain": [
       "293"
      ]
     },
     "execution_count": 7,
     "metadata": {},
     "output_type": "execute_result"
    }
   ],
   "source": [
    "df['AirportTo'].nunique()"
   ]
  },
  {
   "cell_type": "code",
   "execution_count": 8,
   "metadata": {},
   "outputs": [
    {
     "data": {
      "text/plain": [
       "array(['IAH', 'CLT', 'DFW', 'SEA', 'MSP', 'DTW', 'ORD', 'ATL', 'PDX',\n",
       "       'JFK', 'SLC', 'HNL', 'PHX', 'MCO', 'OGG', 'LAX', 'KOA', 'ITO',\n",
       "       'SFO', 'MIA', 'IAD', 'SMF', 'PHL', 'LIH', 'DEN', 'LGA', 'MEM',\n",
       "       'CVG', 'YUM', 'CWA', 'MKE', 'BQN', 'FAI', 'LAS', 'ANC', 'BOS',\n",
       "       'LGB', 'FLL', 'SJU', 'EWR', 'DCA', 'BWI', 'RDU', 'MCI', 'TYS',\n",
       "       'SAN', 'ONT', 'OAK', 'MDW', 'BNA', 'DAL', 'CLE', 'JAX', 'JNU',\n",
       "       'RNO', 'ELP', 'SAT', 'OTZ', 'MBS', 'BDL', 'STL', 'HOU', 'AUS',\n",
       "       'SNA', 'SJC', 'LIT', 'TUS', 'TUL', 'CMH', 'LAN', 'IND', 'AMA',\n",
       "       'CRP', 'PIT', 'RKS', 'FWA', 'TPA', 'PBI', 'JAN', 'DSM', 'ADQ',\n",
       "       'GRB', 'PVD', 'ABQ', 'SDF', 'RSW', 'MSY', 'BUR', 'BOI', 'TLH',\n",
       "       'BHM', 'ACV', 'ORF', 'BET', 'KTN', 'RIC', 'SRQ', 'BTR', 'XNA',\n",
       "       'MHT', 'GRR', 'SBN', 'SBA', 'ROA', 'CID', 'GPT', 'MFR', 'SGU',\n",
       "       'HPN', 'OMA', 'OTH', 'GSP', 'LMT', 'BUF', 'MSN', 'BFL', 'CAE',\n",
       "       'HRL', 'OKC', 'SYR', 'COS', 'BTV', 'CDC', 'SCC', 'DAY', 'SJT',\n",
       "       'TVC', 'ROC', 'ISP', 'MRY', 'SBP', 'MLI', 'MOB', 'CIC', 'SAV',\n",
       "       'FAT', 'EKO', 'GEG', 'ECP', 'LFT', 'SUN', 'HSV', 'SHV', 'CHA',\n",
       "       'CAK', 'BZN', 'MAF', 'GSO', 'MDT', 'PHF', 'ICT', 'AZO', 'RAP',\n",
       "       'CHS', 'CLD', 'MKG', 'VPS', 'PIH', 'ATW', 'AGS', 'PNS', 'BIL',\n",
       "       'SPI', 'FAR', 'CPR', 'PIA', 'SPS', 'TWF', 'LBB', 'ALB', 'CEC',\n",
       "       'DRO', 'GJT', 'GNV', 'RST', 'AVL', 'GRK', 'PSP', 'LEX', 'TRI',\n",
       "       'SGF', 'FSM', 'RDD', 'OME', 'MFE', 'LSE', 'BMI', 'MYR', 'FAY',\n",
       "       'FSD', 'EUG', 'MGM', 'EVV', 'MLB', 'FNT', 'STT', 'WRG', 'ABE',\n",
       "       'BIS', 'MOT', 'MLU', 'GFK', 'RDM', 'COU', 'LRD', 'PSC', 'MOD',\n",
       "       'PWM', 'ILM', 'ABY', 'CRW', 'TXK', 'BRO', 'BRW', 'EYW', 'DAB',\n",
       "       'ROW', 'ABI', 'EAU', 'TYR', 'MSO', 'FLG', 'CSG', 'VLD', 'DHN',\n",
       "       'OAJ', 'AEX', 'CHO', 'SAF', 'GGG', 'FCA', 'ASE', 'BKG', 'MHK',\n",
       "       'LNK', 'MQT', 'YAK', 'GTR', 'SMX', 'SWF', 'ITH', 'AVP', 'ELM',\n",
       "       'BGM', 'SIT', 'PSG', 'CYS', 'CLL', 'SCE', 'LWB', 'LCH', 'GCC',\n",
       "       'IYK', 'LWS', 'COD', 'HLN', 'BQK', 'GTF', 'DLH', 'BTM', 'EGE',\n",
       "       'IDA', 'JAC', 'HDN', 'MTJ', 'CMX', 'CMI', 'CDV', 'LYH', 'ACT',\n",
       "       'STX', 'IPL', 'PAH', 'HTS', 'MEI', 'BLI', 'ERI', 'EWN', 'FLO',\n",
       "       'ACY', 'DBQ', 'TOL', 'GUC', 'PLN', 'BGR', 'PSE', 'PIE', 'UTM',\n",
       "       'ADK', 'ABR', 'TEX', 'MMH', 'GUM'], dtype=object)"
      ]
     },
     "execution_count": 8,
     "metadata": {},
     "output_type": "execute_result"
    }
   ],
   "source": [
    "df['AirportTo'].unique()"
   ]
  },
  {
   "cell_type": "code",
   "execution_count": 9,
   "metadata": {},
   "outputs": [
    {
     "data": {
      "text/plain": [
       "ATL    34440\n",
       "ORD    24871\n",
       "DFW    22153\n",
       "DEN    19848\n",
       "LAX    16656\n",
       "       ...  \n",
       "MMH       16\n",
       "SJT       15\n",
       "GUM       10\n",
       "ADK        9\n",
       "ABR        2\n",
       "Name: AirportTo, Length: 293, dtype: int64"
      ]
     },
     "execution_count": 9,
     "metadata": {},
     "output_type": "execute_result"
    }
   ],
   "source": [
    "df['AirportTo'].value_counts()"
   ]
  },
  {
   "cell_type": "code",
   "execution_count": 10,
   "metadata": {},
   "outputs": [
    {
     "data": {
      "text/plain": [
       "18"
      ]
     },
     "execution_count": 10,
     "metadata": {},
     "output_type": "execute_result"
    }
   ],
   "source": [
    "df['Airline'].nunique()"
   ]
  },
  {
   "cell_type": "code",
   "execution_count": 11,
   "metadata": {},
   "outputs": [
    {
     "data": {
      "text/plain": [
       "WN    94097\n",
       "DL    60940\n",
       "OO    50254\n",
       "AA    45656\n",
       "MQ    36605\n",
       "US    34500\n",
       "XE    31126\n",
       "EV    27983\n",
       "UA    27619\n",
       "CO    21118\n",
       "FL    20827\n",
       "9E    20686\n",
       "B6    18112\n",
       "YV    13725\n",
       "OH    12630\n",
       "AS    11471\n",
       "F9     6456\n",
       "HA     5578\n",
       "Name: Airline, dtype: int64"
      ]
     },
     "execution_count": 11,
     "metadata": {},
     "output_type": "execute_result"
    }
   ],
   "source": [
    "df['Airline'].value_counts()"
   ]
  },
  {
   "cell_type": "code",
   "execution_count": 12,
   "metadata": {},
   "outputs": [
    {
     "data": {
      "text/plain": [
       "6585"
      ]
     },
     "execution_count": 12,
     "metadata": {},
     "output_type": "execute_result"
    }
   ],
   "source": [
    "df['Flight'].nunique()"
   ]
  },
  {
   "cell_type": "code",
   "execution_count": 13,
   "metadata": {},
   "outputs": [
    {
     "data": {
      "text/plain": [
       "16      420\n",
       "5       407\n",
       "9       401\n",
       "8       396\n",
       "62      364\n",
       "       ... \n",
       "7814      1\n",
       "3573      1\n",
       "4385      1\n",
       "3292      1\n",
       "6969      1\n",
       "Name: Flight, Length: 6585, dtype: int64"
      ]
     },
     "execution_count": 13,
     "metadata": {},
     "output_type": "execute_result"
    }
   ],
   "source": [
    "df['Flight'].value_counts()"
   ]
  },
  {
   "cell_type": "code",
   "execution_count": 6,
   "metadata": {},
   "outputs": [
    {
     "name": "stderr",
     "output_type": "stream",
     "text": [
      "C:\\Users\\HP GAMING\\AppData\\Local\\Temp\\ipykernel_8608\\2836927623.py:2: FutureWarning:\n",
      "\n",
      "The default value of numeric_only in DataFrame.corr is deprecated. In a future version, it will default to False. Select only valid columns or specify the value of numeric_only to silence this warning.\n",
      "\n"
     ]
    },
    {
     "ename": "ValueError",
     "evalue": "Mime type rendering requires nbformat>=4.2.0 but it is not installed",
     "output_type": "error",
     "traceback": [
      "\u001b[1;31m---------------------------------------------------------------------------\u001b[0m",
      "\u001b[1;31mValueError\u001b[0m                                Traceback (most recent call last)",
      "File \u001b[1;32m~\\AppData\\Roaming\\Python\\Python39\\site-packages\\IPython\\core\\formatters.py:920\u001b[0m, in \u001b[0;36mIPythonDisplayFormatter.__call__\u001b[1;34m(self, obj)\u001b[0m\n\u001b[0;32m    918\u001b[0m method \u001b[39m=\u001b[39m get_real_method(obj, \u001b[39mself\u001b[39m\u001b[39m.\u001b[39mprint_method)\n\u001b[0;32m    919\u001b[0m \u001b[39mif\u001b[39;00m method \u001b[39mis\u001b[39;00m \u001b[39mnot\u001b[39;00m \u001b[39mNone\u001b[39;00m:\n\u001b[1;32m--> 920\u001b[0m     method()\n\u001b[0;32m    921\u001b[0m     \u001b[39mreturn\u001b[39;00m \u001b[39mTrue\u001b[39;00m\n",
      "File \u001b[1;32mc:\\Users\\HP GAMING\\AppData\\Local\\Programs\\Python\\Python39\\lib\\site-packages\\plotly\\basedatatypes.py:834\u001b[0m, in \u001b[0;36mBaseFigure._ipython_display_\u001b[1;34m(self)\u001b[0m\n\u001b[0;32m    831\u001b[0m \u001b[39mimport\u001b[39;00m \u001b[39mplotly\u001b[39;00m\u001b[39m.\u001b[39;00m\u001b[39mio\u001b[39;00m \u001b[39mas\u001b[39;00m \u001b[39mpio\u001b[39;00m\n\u001b[0;32m    833\u001b[0m \u001b[39mif\u001b[39;00m pio\u001b[39m.\u001b[39mrenderers\u001b[39m.\u001b[39mrender_on_display \u001b[39mand\u001b[39;00m pio\u001b[39m.\u001b[39mrenderers\u001b[39m.\u001b[39mdefault:\n\u001b[1;32m--> 834\u001b[0m     pio\u001b[39m.\u001b[39;49mshow(\u001b[39mself\u001b[39;49m)\n\u001b[0;32m    835\u001b[0m \u001b[39melse\u001b[39;00m:\n\u001b[0;32m    836\u001b[0m     \u001b[39mprint\u001b[39m(\u001b[39mrepr\u001b[39m(\u001b[39mself\u001b[39m))\n",
      "File \u001b[1;32mc:\\Users\\HP GAMING\\AppData\\Local\\Programs\\Python\\Python39\\lib\\site-packages\\plotly\\io\\_renderers.py:396\u001b[0m, in \u001b[0;36mshow\u001b[1;34m(fig, renderer, validate, **kwargs)\u001b[0m\n\u001b[0;32m    391\u001b[0m         \u001b[39mraise\u001b[39;00m \u001b[39mValueError\u001b[39;00m(\n\u001b[0;32m    392\u001b[0m             \u001b[39m\"\u001b[39m\u001b[39mMime type rendering requires ipython but it is not installed\u001b[39m\u001b[39m\"\u001b[39m\n\u001b[0;32m    393\u001b[0m         )\n\u001b[0;32m    395\u001b[0m     \u001b[39mif\u001b[39;00m \u001b[39mnot\u001b[39;00m nbformat \u001b[39mor\u001b[39;00m Version(nbformat\u001b[39m.\u001b[39m__version__) \u001b[39m<\u001b[39m Version(\u001b[39m\"\u001b[39m\u001b[39m4.2.0\u001b[39m\u001b[39m\"\u001b[39m):\n\u001b[1;32m--> 396\u001b[0m         \u001b[39mraise\u001b[39;00m \u001b[39mValueError\u001b[39;00m(\n\u001b[0;32m    397\u001b[0m             \u001b[39m\"\u001b[39m\u001b[39mMime type rendering requires nbformat>=4.2.0 but it is not installed\u001b[39m\u001b[39m\"\u001b[39m\n\u001b[0;32m    398\u001b[0m         )\n\u001b[0;32m    400\u001b[0m     ipython_display\u001b[39m.\u001b[39mdisplay(bundle, raw\u001b[39m=\u001b[39m\u001b[39mTrue\u001b[39;00m)\n\u001b[0;32m    402\u001b[0m \u001b[39m# external renderers\u001b[39;00m\n",
      "\u001b[1;31mValueError\u001b[0m: Mime type rendering requires nbformat>=4.2.0 but it is not installed"
     ]
    },
    {
     "data": {
      "application/vnd.plotly.v1+json": {
       "config": {
        "plotlyServerURL": "https://plot.ly"
       },
       "data": [
        {
         "coloraxis": "coloraxis",
         "hovertemplate": "x: %{x}<br>y: %{y}<br>color: %{z}<extra></extra>",
         "name": "0",
         "type": "heatmap",
         "x": [
          "id",
          "Flight",
          "DayOfWeek",
          "Time",
          "Length",
          "Delay"
         ],
         "xaxis": "x",
         "y": [
          "id",
          "Flight",
          "DayOfWeek",
          "Time",
          "Length",
          "Delay"
         ],
         "yaxis": "y",
         "z": [
          [
           1,
           -0.006155530820302707,
           -0.05547382583879584,
           0.02915598426556368,
           0.02078117619433249,
           0.13976172669284354
          ],
          [
           -0.006155530820302707,
           1,
           0.00041628124301422697,
           -0.0057496815504663205,
           -0.3414810751740147,
           -0.046174610766111415
          ],
          [
           -0.05547382583879584,
           0.00041628124301422697,
           1,
           0.0012734132626451924,
           0.01339710116308652,
           -0.026199285294643142
          ],
          [
           0.02915598426556368,
           -0.0057496815504663205,
           0.0012734132626451924,
           1,
           -0.020611992828357874,
           0.15045377542157218
          ],
          [
           0.02078117619433249,
           -0.3414810751740147,
           0.01339710116308652,
           -0.020611992828357874,
           1,
           0.04048947160806749
          ],
          [
           0.13976172669284354,
           -0.046174610766111415,
           -0.026199285294643142,
           0.15045377542157218,
           0.04048947160806749,
           1
          ]
         ]
        }
       ],
       "layout": {
        "coloraxis": {
         "colorscale": [
          [
           0,
           "#0d0887"
          ],
          [
           0.1111111111111111,
           "#46039f"
          ],
          [
           0.2222222222222222,
           "#7201a8"
          ],
          [
           0.3333333333333333,
           "#9c179e"
          ],
          [
           0.4444444444444444,
           "#bd3786"
          ],
          [
           0.5555555555555556,
           "#d8576b"
          ],
          [
           0.6666666666666666,
           "#ed7953"
          ],
          [
           0.7777777777777778,
           "#fb9f3a"
          ],
          [
           0.8888888888888888,
           "#fdca26"
          ],
          [
           1,
           "#f0f921"
          ]
         ]
        },
        "template": {
         "data": {
          "bar": [
           {
            "error_x": {
             "color": "#2a3f5f"
            },
            "error_y": {
             "color": "#2a3f5f"
            },
            "marker": {
             "line": {
              "color": "#E5ECF6",
              "width": 0.5
             },
             "pattern": {
              "fillmode": "overlay",
              "size": 10,
              "solidity": 0.2
             }
            },
            "type": "bar"
           }
          ],
          "barpolar": [
           {
            "marker": {
             "line": {
              "color": "#E5ECF6",
              "width": 0.5
             },
             "pattern": {
              "fillmode": "overlay",
              "size": 10,
              "solidity": 0.2
             }
            },
            "type": "barpolar"
           }
          ],
          "carpet": [
           {
            "aaxis": {
             "endlinecolor": "#2a3f5f",
             "gridcolor": "white",
             "linecolor": "white",
             "minorgridcolor": "white",
             "startlinecolor": "#2a3f5f"
            },
            "baxis": {
             "endlinecolor": "#2a3f5f",
             "gridcolor": "white",
             "linecolor": "white",
             "minorgridcolor": "white",
             "startlinecolor": "#2a3f5f"
            },
            "type": "carpet"
           }
          ],
          "choropleth": [
           {
            "colorbar": {
             "outlinewidth": 0,
             "ticks": ""
            },
            "type": "choropleth"
           }
          ],
          "contour": [
           {
            "colorbar": {
             "outlinewidth": 0,
             "ticks": ""
            },
            "colorscale": [
             [
              0,
              "#0d0887"
             ],
             [
              0.1111111111111111,
              "#46039f"
             ],
             [
              0.2222222222222222,
              "#7201a8"
             ],
             [
              0.3333333333333333,
              "#9c179e"
             ],
             [
              0.4444444444444444,
              "#bd3786"
             ],
             [
              0.5555555555555556,
              "#d8576b"
             ],
             [
              0.6666666666666666,
              "#ed7953"
             ],
             [
              0.7777777777777778,
              "#fb9f3a"
             ],
             [
              0.8888888888888888,
              "#fdca26"
             ],
             [
              1,
              "#f0f921"
             ]
            ],
            "type": "contour"
           }
          ],
          "contourcarpet": [
           {
            "colorbar": {
             "outlinewidth": 0,
             "ticks": ""
            },
            "type": "contourcarpet"
           }
          ],
          "heatmap": [
           {
            "colorbar": {
             "outlinewidth": 0,
             "ticks": ""
            },
            "colorscale": [
             [
              0,
              "#0d0887"
             ],
             [
              0.1111111111111111,
              "#46039f"
             ],
             [
              0.2222222222222222,
              "#7201a8"
             ],
             [
              0.3333333333333333,
              "#9c179e"
             ],
             [
              0.4444444444444444,
              "#bd3786"
             ],
             [
              0.5555555555555556,
              "#d8576b"
             ],
             [
              0.6666666666666666,
              "#ed7953"
             ],
             [
              0.7777777777777778,
              "#fb9f3a"
             ],
             [
              0.8888888888888888,
              "#fdca26"
             ],
             [
              1,
              "#f0f921"
             ]
            ],
            "type": "heatmap"
           }
          ],
          "heatmapgl": [
           {
            "colorbar": {
             "outlinewidth": 0,
             "ticks": ""
            },
            "colorscale": [
             [
              0,
              "#0d0887"
             ],
             [
              0.1111111111111111,
              "#46039f"
             ],
             [
              0.2222222222222222,
              "#7201a8"
             ],
             [
              0.3333333333333333,
              "#9c179e"
             ],
             [
              0.4444444444444444,
              "#bd3786"
             ],
             [
              0.5555555555555556,
              "#d8576b"
             ],
             [
              0.6666666666666666,
              "#ed7953"
             ],
             [
              0.7777777777777778,
              "#fb9f3a"
             ],
             [
              0.8888888888888888,
              "#fdca26"
             ],
             [
              1,
              "#f0f921"
             ]
            ],
            "type": "heatmapgl"
           }
          ],
          "histogram": [
           {
            "marker": {
             "pattern": {
              "fillmode": "overlay",
              "size": 10,
              "solidity": 0.2
             }
            },
            "type": "histogram"
           }
          ],
          "histogram2d": [
           {
            "colorbar": {
             "outlinewidth": 0,
             "ticks": ""
            },
            "colorscale": [
             [
              0,
              "#0d0887"
             ],
             [
              0.1111111111111111,
              "#46039f"
             ],
             [
              0.2222222222222222,
              "#7201a8"
             ],
             [
              0.3333333333333333,
              "#9c179e"
             ],
             [
              0.4444444444444444,
              "#bd3786"
             ],
             [
              0.5555555555555556,
              "#d8576b"
             ],
             [
              0.6666666666666666,
              "#ed7953"
             ],
             [
              0.7777777777777778,
              "#fb9f3a"
             ],
             [
              0.8888888888888888,
              "#fdca26"
             ],
             [
              1,
              "#f0f921"
             ]
            ],
            "type": "histogram2d"
           }
          ],
          "histogram2dcontour": [
           {
            "colorbar": {
             "outlinewidth": 0,
             "ticks": ""
            },
            "colorscale": [
             [
              0,
              "#0d0887"
             ],
             [
              0.1111111111111111,
              "#46039f"
             ],
             [
              0.2222222222222222,
              "#7201a8"
             ],
             [
              0.3333333333333333,
              "#9c179e"
             ],
             [
              0.4444444444444444,
              "#bd3786"
             ],
             [
              0.5555555555555556,
              "#d8576b"
             ],
             [
              0.6666666666666666,
              "#ed7953"
             ],
             [
              0.7777777777777778,
              "#fb9f3a"
             ],
             [
              0.8888888888888888,
              "#fdca26"
             ],
             [
              1,
              "#f0f921"
             ]
            ],
            "type": "histogram2dcontour"
           }
          ],
          "mesh3d": [
           {
            "colorbar": {
             "outlinewidth": 0,
             "ticks": ""
            },
            "type": "mesh3d"
           }
          ],
          "parcoords": [
           {
            "line": {
             "colorbar": {
              "outlinewidth": 0,
              "ticks": ""
             }
            },
            "type": "parcoords"
           }
          ],
          "pie": [
           {
            "automargin": true,
            "type": "pie"
           }
          ],
          "scatter": [
           {
            "fillpattern": {
             "fillmode": "overlay",
             "size": 10,
             "solidity": 0.2
            },
            "type": "scatter"
           }
          ],
          "scatter3d": [
           {
            "line": {
             "colorbar": {
              "outlinewidth": 0,
              "ticks": ""
             }
            },
            "marker": {
             "colorbar": {
              "outlinewidth": 0,
              "ticks": ""
             }
            },
            "type": "scatter3d"
           }
          ],
          "scattercarpet": [
           {
            "marker": {
             "colorbar": {
              "outlinewidth": 0,
              "ticks": ""
             }
            },
            "type": "scattercarpet"
           }
          ],
          "scattergeo": [
           {
            "marker": {
             "colorbar": {
              "outlinewidth": 0,
              "ticks": ""
             }
            },
            "type": "scattergeo"
           }
          ],
          "scattergl": [
           {
            "marker": {
             "colorbar": {
              "outlinewidth": 0,
              "ticks": ""
             }
            },
            "type": "scattergl"
           }
          ],
          "scattermapbox": [
           {
            "marker": {
             "colorbar": {
              "outlinewidth": 0,
              "ticks": ""
             }
            },
            "type": "scattermapbox"
           }
          ],
          "scatterpolar": [
           {
            "marker": {
             "colorbar": {
              "outlinewidth": 0,
              "ticks": ""
             }
            },
            "type": "scatterpolar"
           }
          ],
          "scatterpolargl": [
           {
            "marker": {
             "colorbar": {
              "outlinewidth": 0,
              "ticks": ""
             }
            },
            "type": "scatterpolargl"
           }
          ],
          "scatterternary": [
           {
            "marker": {
             "colorbar": {
              "outlinewidth": 0,
              "ticks": ""
             }
            },
            "type": "scatterternary"
           }
          ],
          "surface": [
           {
            "colorbar": {
             "outlinewidth": 0,
             "ticks": ""
            },
            "colorscale": [
             [
              0,
              "#0d0887"
             ],
             [
              0.1111111111111111,
              "#46039f"
             ],
             [
              0.2222222222222222,
              "#7201a8"
             ],
             [
              0.3333333333333333,
              "#9c179e"
             ],
             [
              0.4444444444444444,
              "#bd3786"
             ],
             [
              0.5555555555555556,
              "#d8576b"
             ],
             [
              0.6666666666666666,
              "#ed7953"
             ],
             [
              0.7777777777777778,
              "#fb9f3a"
             ],
             [
              0.8888888888888888,
              "#fdca26"
             ],
             [
              1,
              "#f0f921"
             ]
            ],
            "type": "surface"
           }
          ],
          "table": [
           {
            "cells": {
             "fill": {
              "color": "#EBF0F8"
             },
             "line": {
              "color": "white"
             }
            },
            "header": {
             "fill": {
              "color": "#C8D4E3"
             },
             "line": {
              "color": "white"
             }
            },
            "type": "table"
           }
          ]
         },
         "layout": {
          "annotationdefaults": {
           "arrowcolor": "#2a3f5f",
           "arrowhead": 0,
           "arrowwidth": 1
          },
          "autotypenumbers": "strict",
          "coloraxis": {
           "colorbar": {
            "outlinewidth": 0,
            "ticks": ""
           }
          },
          "colorscale": {
           "diverging": [
            [
             0,
             "#8e0152"
            ],
            [
             0.1,
             "#c51b7d"
            ],
            [
             0.2,
             "#de77ae"
            ],
            [
             0.3,
             "#f1b6da"
            ],
            [
             0.4,
             "#fde0ef"
            ],
            [
             0.5,
             "#f7f7f7"
            ],
            [
             0.6,
             "#e6f5d0"
            ],
            [
             0.7,
             "#b8e186"
            ],
            [
             0.8,
             "#7fbc41"
            ],
            [
             0.9,
             "#4d9221"
            ],
            [
             1,
             "#276419"
            ]
           ],
           "sequential": [
            [
             0,
             "#0d0887"
            ],
            [
             0.1111111111111111,
             "#46039f"
            ],
            [
             0.2222222222222222,
             "#7201a8"
            ],
            [
             0.3333333333333333,
             "#9c179e"
            ],
            [
             0.4444444444444444,
             "#bd3786"
            ],
            [
             0.5555555555555556,
             "#d8576b"
            ],
            [
             0.6666666666666666,
             "#ed7953"
            ],
            [
             0.7777777777777778,
             "#fb9f3a"
            ],
            [
             0.8888888888888888,
             "#fdca26"
            ],
            [
             1,
             "#f0f921"
            ]
           ],
           "sequentialminus": [
            [
             0,
             "#0d0887"
            ],
            [
             0.1111111111111111,
             "#46039f"
            ],
            [
             0.2222222222222222,
             "#7201a8"
            ],
            [
             0.3333333333333333,
             "#9c179e"
            ],
            [
             0.4444444444444444,
             "#bd3786"
            ],
            [
             0.5555555555555556,
             "#d8576b"
            ],
            [
             0.6666666666666666,
             "#ed7953"
            ],
            [
             0.7777777777777778,
             "#fb9f3a"
            ],
            [
             0.8888888888888888,
             "#fdca26"
            ],
            [
             1,
             "#f0f921"
            ]
           ]
          },
          "colorway": [
           "#636efa",
           "#EF553B",
           "#00cc96",
           "#ab63fa",
           "#FFA15A",
           "#19d3f3",
           "#FF6692",
           "#B6E880",
           "#FF97FF",
           "#FECB52"
          ],
          "font": {
           "color": "#2a3f5f"
          },
          "geo": {
           "bgcolor": "white",
           "lakecolor": "white",
           "landcolor": "#E5ECF6",
           "showlakes": true,
           "showland": true,
           "subunitcolor": "white"
          },
          "hoverlabel": {
           "align": "left"
          },
          "hovermode": "closest",
          "mapbox": {
           "style": "light"
          },
          "paper_bgcolor": "white",
          "plot_bgcolor": "#E5ECF6",
          "polar": {
           "angularaxis": {
            "gridcolor": "white",
            "linecolor": "white",
            "ticks": ""
           },
           "bgcolor": "#E5ECF6",
           "radialaxis": {
            "gridcolor": "white",
            "linecolor": "white",
            "ticks": ""
           }
          },
          "scene": {
           "xaxis": {
            "backgroundcolor": "#E5ECF6",
            "gridcolor": "white",
            "gridwidth": 2,
            "linecolor": "white",
            "showbackground": true,
            "ticks": "",
            "zerolinecolor": "white"
           },
           "yaxis": {
            "backgroundcolor": "#E5ECF6",
            "gridcolor": "white",
            "gridwidth": 2,
            "linecolor": "white",
            "showbackground": true,
            "ticks": "",
            "zerolinecolor": "white"
           },
           "zaxis": {
            "backgroundcolor": "#E5ECF6",
            "gridcolor": "white",
            "gridwidth": 2,
            "linecolor": "white",
            "showbackground": true,
            "ticks": "",
            "zerolinecolor": "white"
           }
          },
          "shapedefaults": {
           "line": {
            "color": "#2a3f5f"
           }
          },
          "ternary": {
           "aaxis": {
            "gridcolor": "white",
            "linecolor": "white",
            "ticks": ""
           },
           "baxis": {
            "gridcolor": "white",
            "linecolor": "white",
            "ticks": ""
           },
           "bgcolor": "#E5ECF6",
           "caxis": {
            "gridcolor": "white",
            "linecolor": "white",
            "ticks": ""
           }
          },
          "title": {
           "x": 0.05
          },
          "xaxis": {
           "automargin": true,
           "gridcolor": "white",
           "linecolor": "white",
           "ticks": "",
           "title": {
            "standoff": 15
           },
           "zerolinecolor": "white",
           "zerolinewidth": 2
          },
          "yaxis": {
           "automargin": true,
           "gridcolor": "white",
           "linecolor": "white",
           "ticks": "",
           "title": {
            "standoff": 15
           },
           "zerolinecolor": "white",
           "zerolinewidth": 2
          }
         }
        },
        "title": {
         "text": "Correlation grapf"
        },
        "xaxis": {
         "anchor": "y",
         "constrain": "domain",
         "domain": [
          0,
          1
         ],
         "scaleanchor": "y"
        },
        "yaxis": {
         "anchor": "x",
         "autorange": "reversed",
         "constrain": "domain",
         "domain": [
          0,
          1
         ]
        }
       }
      },
      "text/html": [
       "<div>                        <script type=\"text/javascript\">window.PlotlyConfig = {MathJaxConfig: 'local'};</script>\n",
       "        <script src=\"https://cdn.plot.ly/plotly-2.18.2.min.js\"></script>                <div id=\"f72cc31f-5388-4004-8615-0825a5a33464\" class=\"plotly-graph-div\" style=\"height:100%; width:100%;\"></div>            <script type=\"text/javascript\">                                    window.PLOTLYENV=window.PLOTLYENV || {};                                    if (document.getElementById(\"f72cc31f-5388-4004-8615-0825a5a33464\")) {                    Plotly.newPlot(                        \"f72cc31f-5388-4004-8615-0825a5a33464\",                        [{\"coloraxis\":\"coloraxis\",\"name\":\"0\",\"x\":[\"id\",\"Flight\",\"DayOfWeek\",\"Time\",\"Length\",\"Delay\"],\"y\":[\"id\",\"Flight\",\"DayOfWeek\",\"Time\",\"Length\",\"Delay\"],\"z\":[[1.0,-0.006155530820302707,-0.05547382583879584,0.02915598426556368,0.02078117619433249,0.13976172669284354],[-0.006155530820302707,1.0,0.00041628124301422697,-0.0057496815504663205,-0.3414810751740147,-0.046174610766111415],[-0.05547382583879584,0.00041628124301422697,1.0,0.0012734132626451924,0.01339710116308652,-0.026199285294643142],[0.02915598426556368,-0.0057496815504663205,0.0012734132626451924,1.0,-0.020611992828357874,0.15045377542157218],[0.02078117619433249,-0.3414810751740147,0.01339710116308652,-0.020611992828357874,1.0,0.04048947160806749],[0.13976172669284354,-0.046174610766111415,-0.026199285294643142,0.15045377542157218,0.04048947160806749,1.0]],\"type\":\"heatmap\",\"xaxis\":\"x\",\"yaxis\":\"y\",\"hovertemplate\":\"x: %{x}<br>y: %{y}<br>color: %{z}<extra></extra>\"}],                        {\"template\":{\"data\":{\"histogram2dcontour\":[{\"type\":\"histogram2dcontour\",\"colorbar\":{\"outlinewidth\":0,\"ticks\":\"\"},\"colorscale\":[[0.0,\"#0d0887\"],[0.1111111111111111,\"#46039f\"],[0.2222222222222222,\"#7201a8\"],[0.3333333333333333,\"#9c179e\"],[0.4444444444444444,\"#bd3786\"],[0.5555555555555556,\"#d8576b\"],[0.6666666666666666,\"#ed7953\"],[0.7777777777777778,\"#fb9f3a\"],[0.8888888888888888,\"#fdca26\"],[1.0,\"#f0f921\"]]}],\"choropleth\":[{\"type\":\"choropleth\",\"colorbar\":{\"outlinewidth\":0,\"ticks\":\"\"}}],\"histogram2d\":[{\"type\":\"histogram2d\",\"colorbar\":{\"outlinewidth\":0,\"ticks\":\"\"},\"colorscale\":[[0.0,\"#0d0887\"],[0.1111111111111111,\"#46039f\"],[0.2222222222222222,\"#7201a8\"],[0.3333333333333333,\"#9c179e\"],[0.4444444444444444,\"#bd3786\"],[0.5555555555555556,\"#d8576b\"],[0.6666666666666666,\"#ed7953\"],[0.7777777777777778,\"#fb9f3a\"],[0.8888888888888888,\"#fdca26\"],[1.0,\"#f0f921\"]]}],\"heatmap\":[{\"type\":\"heatmap\",\"colorbar\":{\"outlinewidth\":0,\"ticks\":\"\"},\"colorscale\":[[0.0,\"#0d0887\"],[0.1111111111111111,\"#46039f\"],[0.2222222222222222,\"#7201a8\"],[0.3333333333333333,\"#9c179e\"],[0.4444444444444444,\"#bd3786\"],[0.5555555555555556,\"#d8576b\"],[0.6666666666666666,\"#ed7953\"],[0.7777777777777778,\"#fb9f3a\"],[0.8888888888888888,\"#fdca26\"],[1.0,\"#f0f921\"]]}],\"heatmapgl\":[{\"type\":\"heatmapgl\",\"colorbar\":{\"outlinewidth\":0,\"ticks\":\"\"},\"colorscale\":[[0.0,\"#0d0887\"],[0.1111111111111111,\"#46039f\"],[0.2222222222222222,\"#7201a8\"],[0.3333333333333333,\"#9c179e\"],[0.4444444444444444,\"#bd3786\"],[0.5555555555555556,\"#d8576b\"],[0.6666666666666666,\"#ed7953\"],[0.7777777777777778,\"#fb9f3a\"],[0.8888888888888888,\"#fdca26\"],[1.0,\"#f0f921\"]]}],\"contourcarpet\":[{\"type\":\"contourcarpet\",\"colorbar\":{\"outlinewidth\":0,\"ticks\":\"\"}}],\"contour\":[{\"type\":\"contour\",\"colorbar\":{\"outlinewidth\":0,\"ticks\":\"\"},\"colorscale\":[[0.0,\"#0d0887\"],[0.1111111111111111,\"#46039f\"],[0.2222222222222222,\"#7201a8\"],[0.3333333333333333,\"#9c179e\"],[0.4444444444444444,\"#bd3786\"],[0.5555555555555556,\"#d8576b\"],[0.6666666666666666,\"#ed7953\"],[0.7777777777777778,\"#fb9f3a\"],[0.8888888888888888,\"#fdca26\"],[1.0,\"#f0f921\"]]}],\"surface\":[{\"type\":\"surface\",\"colorbar\":{\"outlinewidth\":0,\"ticks\":\"\"},\"colorscale\":[[0.0,\"#0d0887\"],[0.1111111111111111,\"#46039f\"],[0.2222222222222222,\"#7201a8\"],[0.3333333333333333,\"#9c179e\"],[0.4444444444444444,\"#bd3786\"],[0.5555555555555556,\"#d8576b\"],[0.6666666666666666,\"#ed7953\"],[0.7777777777777778,\"#fb9f3a\"],[0.8888888888888888,\"#fdca26\"],[1.0,\"#f0f921\"]]}],\"mesh3d\":[{\"type\":\"mesh3d\",\"colorbar\":{\"outlinewidth\":0,\"ticks\":\"\"}}],\"scatter\":[{\"fillpattern\":{\"fillmode\":\"overlay\",\"size\":10,\"solidity\":0.2},\"type\":\"scatter\"}],\"parcoords\":[{\"type\":\"parcoords\",\"line\":{\"colorbar\":{\"outlinewidth\":0,\"ticks\":\"\"}}}],\"scatterpolargl\":[{\"type\":\"scatterpolargl\",\"marker\":{\"colorbar\":{\"outlinewidth\":0,\"ticks\":\"\"}}}],\"bar\":[{\"error_x\":{\"color\":\"#2a3f5f\"},\"error_y\":{\"color\":\"#2a3f5f\"},\"marker\":{\"line\":{\"color\":\"#E5ECF6\",\"width\":0.5},\"pattern\":{\"fillmode\":\"overlay\",\"size\":10,\"solidity\":0.2}},\"type\":\"bar\"}],\"scattergeo\":[{\"type\":\"scattergeo\",\"marker\":{\"colorbar\":{\"outlinewidth\":0,\"ticks\":\"\"}}}],\"scatterpolar\":[{\"type\":\"scatterpolar\",\"marker\":{\"colorbar\":{\"outlinewidth\":0,\"ticks\":\"\"}}}],\"histogram\":[{\"marker\":{\"pattern\":{\"fillmode\":\"overlay\",\"size\":10,\"solidity\":0.2}},\"type\":\"histogram\"}],\"scattergl\":[{\"type\":\"scattergl\",\"marker\":{\"colorbar\":{\"outlinewidth\":0,\"ticks\":\"\"}}}],\"scatter3d\":[{\"type\":\"scatter3d\",\"line\":{\"colorbar\":{\"outlinewidth\":0,\"ticks\":\"\"}},\"marker\":{\"colorbar\":{\"outlinewidth\":0,\"ticks\":\"\"}}}],\"scattermapbox\":[{\"type\":\"scattermapbox\",\"marker\":{\"colorbar\":{\"outlinewidth\":0,\"ticks\":\"\"}}}],\"scatterternary\":[{\"type\":\"scatterternary\",\"marker\":{\"colorbar\":{\"outlinewidth\":0,\"ticks\":\"\"}}}],\"scattercarpet\":[{\"type\":\"scattercarpet\",\"marker\":{\"colorbar\":{\"outlinewidth\":0,\"ticks\":\"\"}}}],\"carpet\":[{\"aaxis\":{\"endlinecolor\":\"#2a3f5f\",\"gridcolor\":\"white\",\"linecolor\":\"white\",\"minorgridcolor\":\"white\",\"startlinecolor\":\"#2a3f5f\"},\"baxis\":{\"endlinecolor\":\"#2a3f5f\",\"gridcolor\":\"white\",\"linecolor\":\"white\",\"minorgridcolor\":\"white\",\"startlinecolor\":\"#2a3f5f\"},\"type\":\"carpet\"}],\"table\":[{\"cells\":{\"fill\":{\"color\":\"#EBF0F8\"},\"line\":{\"color\":\"white\"}},\"header\":{\"fill\":{\"color\":\"#C8D4E3\"},\"line\":{\"color\":\"white\"}},\"type\":\"table\"}],\"barpolar\":[{\"marker\":{\"line\":{\"color\":\"#E5ECF6\",\"width\":0.5},\"pattern\":{\"fillmode\":\"overlay\",\"size\":10,\"solidity\":0.2}},\"type\":\"barpolar\"}],\"pie\":[{\"automargin\":true,\"type\":\"pie\"}]},\"layout\":{\"autotypenumbers\":\"strict\",\"colorway\":[\"#636efa\",\"#EF553B\",\"#00cc96\",\"#ab63fa\",\"#FFA15A\",\"#19d3f3\",\"#FF6692\",\"#B6E880\",\"#FF97FF\",\"#FECB52\"],\"font\":{\"color\":\"#2a3f5f\"},\"hovermode\":\"closest\",\"hoverlabel\":{\"align\":\"left\"},\"paper_bgcolor\":\"white\",\"plot_bgcolor\":\"#E5ECF6\",\"polar\":{\"bgcolor\":\"#E5ECF6\",\"angularaxis\":{\"gridcolor\":\"white\",\"linecolor\":\"white\",\"ticks\":\"\"},\"radialaxis\":{\"gridcolor\":\"white\",\"linecolor\":\"white\",\"ticks\":\"\"}},\"ternary\":{\"bgcolor\":\"#E5ECF6\",\"aaxis\":{\"gridcolor\":\"white\",\"linecolor\":\"white\",\"ticks\":\"\"},\"baxis\":{\"gridcolor\":\"white\",\"linecolor\":\"white\",\"ticks\":\"\"},\"caxis\":{\"gridcolor\":\"white\",\"linecolor\":\"white\",\"ticks\":\"\"}},\"coloraxis\":{\"colorbar\":{\"outlinewidth\":0,\"ticks\":\"\"}},\"colorscale\":{\"sequential\":[[0.0,\"#0d0887\"],[0.1111111111111111,\"#46039f\"],[0.2222222222222222,\"#7201a8\"],[0.3333333333333333,\"#9c179e\"],[0.4444444444444444,\"#bd3786\"],[0.5555555555555556,\"#d8576b\"],[0.6666666666666666,\"#ed7953\"],[0.7777777777777778,\"#fb9f3a\"],[0.8888888888888888,\"#fdca26\"],[1.0,\"#f0f921\"]],\"sequentialminus\":[[0.0,\"#0d0887\"],[0.1111111111111111,\"#46039f\"],[0.2222222222222222,\"#7201a8\"],[0.3333333333333333,\"#9c179e\"],[0.4444444444444444,\"#bd3786\"],[0.5555555555555556,\"#d8576b\"],[0.6666666666666666,\"#ed7953\"],[0.7777777777777778,\"#fb9f3a\"],[0.8888888888888888,\"#fdca26\"],[1.0,\"#f0f921\"]],\"diverging\":[[0,\"#8e0152\"],[0.1,\"#c51b7d\"],[0.2,\"#de77ae\"],[0.3,\"#f1b6da\"],[0.4,\"#fde0ef\"],[0.5,\"#f7f7f7\"],[0.6,\"#e6f5d0\"],[0.7,\"#b8e186\"],[0.8,\"#7fbc41\"],[0.9,\"#4d9221\"],[1,\"#276419\"]]},\"xaxis\":{\"gridcolor\":\"white\",\"linecolor\":\"white\",\"ticks\":\"\",\"title\":{\"standoff\":15},\"zerolinecolor\":\"white\",\"automargin\":true,\"zerolinewidth\":2},\"yaxis\":{\"gridcolor\":\"white\",\"linecolor\":\"white\",\"ticks\":\"\",\"title\":{\"standoff\":15},\"zerolinecolor\":\"white\",\"automargin\":true,\"zerolinewidth\":2},\"scene\":{\"xaxis\":{\"backgroundcolor\":\"#E5ECF6\",\"gridcolor\":\"white\",\"linecolor\":\"white\",\"showbackground\":true,\"ticks\":\"\",\"zerolinecolor\":\"white\",\"gridwidth\":2},\"yaxis\":{\"backgroundcolor\":\"#E5ECF6\",\"gridcolor\":\"white\",\"linecolor\":\"white\",\"showbackground\":true,\"ticks\":\"\",\"zerolinecolor\":\"white\",\"gridwidth\":2},\"zaxis\":{\"backgroundcolor\":\"#E5ECF6\",\"gridcolor\":\"white\",\"linecolor\":\"white\",\"showbackground\":true,\"ticks\":\"\",\"zerolinecolor\":\"white\",\"gridwidth\":2}},\"shapedefaults\":{\"line\":{\"color\":\"#2a3f5f\"}},\"annotationdefaults\":{\"arrowcolor\":\"#2a3f5f\",\"arrowhead\":0,\"arrowwidth\":1},\"geo\":{\"bgcolor\":\"white\",\"landcolor\":\"#E5ECF6\",\"subunitcolor\":\"white\",\"showland\":true,\"showlakes\":true,\"lakecolor\":\"white\"},\"title\":{\"x\":0.05},\"mapbox\":{\"style\":\"light\"}}},\"xaxis\":{\"anchor\":\"y\",\"domain\":[0.0,1.0],\"scaleanchor\":\"y\",\"constrain\":\"domain\"},\"yaxis\":{\"anchor\":\"x\",\"domain\":[0.0,1.0],\"autorange\":\"reversed\",\"constrain\":\"domain\"},\"coloraxis\":{\"colorscale\":[[0.0,\"#0d0887\"],[0.1111111111111111,\"#46039f\"],[0.2222222222222222,\"#7201a8\"],[0.3333333333333333,\"#9c179e\"],[0.4444444444444444,\"#bd3786\"],[0.5555555555555556,\"#d8576b\"],[0.6666666666666666,\"#ed7953\"],[0.7777777777777778,\"#fb9f3a\"],[0.8888888888888888,\"#fdca26\"],[1.0,\"#f0f921\"]]},\"title\":{\"text\":\"Correlation grapf\"}},                        {\"responsive\": true}                    )                };                            </script>        </div>"
      ],
      "text/plain": [
       "Figure({\n",
       "    'data': [{'coloraxis': 'coloraxis',\n",
       "              'hovertemplate': 'x: %{x}<br>y: %{y}<br>color: %{z}<extra></extra>',\n",
       "              'name': '0',\n",
       "              'type': 'heatmap',\n",
       "              'x': array(['id', 'Flight', 'DayOfWeek', 'Time', 'Length', 'Delay'], dtype=object),\n",
       "              'xaxis': 'x',\n",
       "              'y': array(['id', 'Flight', 'DayOfWeek', 'Time', 'Length', 'Delay'], dtype=object),\n",
       "              'yaxis': 'y',\n",
       "              'z': array([[ 1.00000000e+00, -6.15553082e-03, -5.54738258e-02,  2.91559843e-02,\n",
       "                            2.07811762e-02,  1.39761727e-01],\n",
       "                          [-6.15553082e-03,  1.00000000e+00,  4.16281243e-04, -5.74968155e-03,\n",
       "                           -3.41481075e-01, -4.61746108e-02],\n",
       "                          [-5.54738258e-02,  4.16281243e-04,  1.00000000e+00,  1.27341326e-03,\n",
       "                            1.33971012e-02, -2.61992853e-02],\n",
       "                          [ 2.91559843e-02, -5.74968155e-03,  1.27341326e-03,  1.00000000e+00,\n",
       "                           -2.06119928e-02,  1.50453775e-01],\n",
       "                          [ 2.07811762e-02, -3.41481075e-01,  1.33971012e-02, -2.06119928e-02,\n",
       "                            1.00000000e+00,  4.04894716e-02],\n",
       "                          [ 1.39761727e-01, -4.61746108e-02, -2.61992853e-02,  1.50453775e-01,\n",
       "                            4.04894716e-02,  1.00000000e+00]])}],\n",
       "    'layout': {'coloraxis': {'colorscale': [[0.0, '#0d0887'], [0.1111111111111111,\n",
       "                                            '#46039f'], [0.2222222222222222,\n",
       "                                            '#7201a8'], [0.3333333333333333,\n",
       "                                            '#9c179e'], [0.4444444444444444,\n",
       "                                            '#bd3786'], [0.5555555555555556,\n",
       "                                            '#d8576b'], [0.6666666666666666,\n",
       "                                            '#ed7953'], [0.7777777777777778,\n",
       "                                            '#fb9f3a'], [0.8888888888888888,\n",
       "                                            '#fdca26'], [1.0, '#f0f921']]},\n",
       "               'template': '...',\n",
       "               'title': {'text': 'Correlation grapf'},\n",
       "               'xaxis': {'anchor': 'y', 'constrain': 'domain', 'domain': [0.0, 1.0], 'scaleanchor': 'y'},\n",
       "               'yaxis': {'anchor': 'x', 'autorange': 'reversed', 'constrain': 'domain', 'domain': [0.0, 1.0]}}\n",
       "})"
      ]
     },
     "execution_count": 6,
     "metadata": {},
     "output_type": "execute_result"
    }
   ],
   "source": [
    "import plotly.express as px\n",
    "px.imshow(df.corr(),title=\"Correlation grapf\")"
   ]
  },
  {
   "attachments": {},
   "cell_type": "markdown",
   "metadata": {},
   "source": [
    "##### Quick thoughts\n",
    "- airline onehot\n",
    "- TargetEncoder????\n",
    "    - redukce\n",
    "    - random projection\n",
    "    - word embedding\n",
    "\n",
    "- Everything else feels like label\n",
    "- idk to do with flight"
   ]
  },
  {
   "attachments": {},
   "cell_type": "markdown",
   "metadata": {},
   "source": [
    "##### Preprocessing"
   ]
  },
  {
   "cell_type": "code",
   "execution_count": 8,
   "metadata": {},
   "outputs": [],
   "source": [
    "X = df.drop(['Delay'], axis=1)\n",
    "\n",
    "y = preprocessing.LabelEncoder().fit_transform(df['Delay'])"
   ]
  },
  {
   "cell_type": "code",
   "execution_count": 9,
   "metadata": {},
   "outputs": [
    {
     "data": {
      "text/html": [
       "<div>\n",
       "<style scoped>\n",
       "    .dataframe tbody tr th:only-of-type {\n",
       "        vertical-align: middle;\n",
       "    }\n",
       "\n",
       "    .dataframe tbody tr th {\n",
       "        vertical-align: top;\n",
       "    }\n",
       "\n",
       "    .dataframe thead th {\n",
       "        text-align: right;\n",
       "    }\n",
       "</style>\n",
       "<table border=\"1\" class=\"dataframe\">\n",
       "  <thead>\n",
       "    <tr style=\"text-align: right;\">\n",
       "      <th></th>\n",
       "      <th>id</th>\n",
       "      <th>Flight</th>\n",
       "      <th>AirportFrom</th>\n",
       "      <th>AirportTo</th>\n",
       "      <th>DayOfWeek</th>\n",
       "      <th>Time</th>\n",
       "      <th>Length</th>\n",
       "      <th>AA</th>\n",
       "      <th>AS</th>\n",
       "      <th>B6</th>\n",
       "      <th>...</th>\n",
       "      <th>FL</th>\n",
       "      <th>HA</th>\n",
       "      <th>MQ</th>\n",
       "      <th>OH</th>\n",
       "      <th>OO</th>\n",
       "      <th>UA</th>\n",
       "      <th>US</th>\n",
       "      <th>WN</th>\n",
       "      <th>XE</th>\n",
       "      <th>YV</th>\n",
       "    </tr>\n",
       "  </thead>\n",
       "  <tbody>\n",
       "    <tr>\n",
       "      <th>0</th>\n",
       "      <td>1</td>\n",
       "      <td>269</td>\n",
       "      <td>SFO</td>\n",
       "      <td>IAH</td>\n",
       "      <td>3</td>\n",
       "      <td>15</td>\n",
       "      <td>205</td>\n",
       "      <td>0</td>\n",
       "      <td>0</td>\n",
       "      <td>0</td>\n",
       "      <td>...</td>\n",
       "      <td>0</td>\n",
       "      <td>0</td>\n",
       "      <td>0</td>\n",
       "      <td>0</td>\n",
       "      <td>0</td>\n",
       "      <td>0</td>\n",
       "      <td>0</td>\n",
       "      <td>0</td>\n",
       "      <td>0</td>\n",
       "      <td>0</td>\n",
       "    </tr>\n",
       "    <tr>\n",
       "      <th>1</th>\n",
       "      <td>2</td>\n",
       "      <td>1558</td>\n",
       "      <td>PHX</td>\n",
       "      <td>CLT</td>\n",
       "      <td>3</td>\n",
       "      <td>15</td>\n",
       "      <td>222</td>\n",
       "      <td>0</td>\n",
       "      <td>0</td>\n",
       "      <td>0</td>\n",
       "      <td>...</td>\n",
       "      <td>0</td>\n",
       "      <td>0</td>\n",
       "      <td>0</td>\n",
       "      <td>0</td>\n",
       "      <td>0</td>\n",
       "      <td>0</td>\n",
       "      <td>1</td>\n",
       "      <td>0</td>\n",
       "      <td>0</td>\n",
       "      <td>0</td>\n",
       "    </tr>\n",
       "    <tr>\n",
       "      <th>2</th>\n",
       "      <td>3</td>\n",
       "      <td>2400</td>\n",
       "      <td>LAX</td>\n",
       "      <td>DFW</td>\n",
       "      <td>3</td>\n",
       "      <td>20</td>\n",
       "      <td>165</td>\n",
       "      <td>1</td>\n",
       "      <td>0</td>\n",
       "      <td>0</td>\n",
       "      <td>...</td>\n",
       "      <td>0</td>\n",
       "      <td>0</td>\n",
       "      <td>0</td>\n",
       "      <td>0</td>\n",
       "      <td>0</td>\n",
       "      <td>0</td>\n",
       "      <td>0</td>\n",
       "      <td>0</td>\n",
       "      <td>0</td>\n",
       "      <td>0</td>\n",
       "    </tr>\n",
       "    <tr>\n",
       "      <th>3</th>\n",
       "      <td>4</td>\n",
       "      <td>2466</td>\n",
       "      <td>SFO</td>\n",
       "      <td>DFW</td>\n",
       "      <td>3</td>\n",
       "      <td>20</td>\n",
       "      <td>195</td>\n",
       "      <td>1</td>\n",
       "      <td>0</td>\n",
       "      <td>0</td>\n",
       "      <td>...</td>\n",
       "      <td>0</td>\n",
       "      <td>0</td>\n",
       "      <td>0</td>\n",
       "      <td>0</td>\n",
       "      <td>0</td>\n",
       "      <td>0</td>\n",
       "      <td>0</td>\n",
       "      <td>0</td>\n",
       "      <td>0</td>\n",
       "      <td>0</td>\n",
       "    </tr>\n",
       "    <tr>\n",
       "      <th>4</th>\n",
       "      <td>5</td>\n",
       "      <td>108</td>\n",
       "      <td>ANC</td>\n",
       "      <td>SEA</td>\n",
       "      <td>3</td>\n",
       "      <td>30</td>\n",
       "      <td>202</td>\n",
       "      <td>0</td>\n",
       "      <td>1</td>\n",
       "      <td>0</td>\n",
       "      <td>...</td>\n",
       "      <td>0</td>\n",
       "      <td>0</td>\n",
       "      <td>0</td>\n",
       "      <td>0</td>\n",
       "      <td>0</td>\n",
       "      <td>0</td>\n",
       "      <td>0</td>\n",
       "      <td>0</td>\n",
       "      <td>0</td>\n",
       "      <td>0</td>\n",
       "    </tr>\n",
       "  </tbody>\n",
       "</table>\n",
       "<p>5 rows × 24 columns</p>\n",
       "</div>"
      ],
      "text/plain": [
       "   id  Flight AirportFrom AirportTo  DayOfWeek  Time  Length  AA  AS  B6  ...  \\\n",
       "0   1     269         SFO       IAH          3    15     205   0   0   0  ...   \n",
       "1   2    1558         PHX       CLT          3    15     222   0   0   0  ...   \n",
       "2   3    2400         LAX       DFW          3    20     165   1   0   0  ...   \n",
       "3   4    2466         SFO       DFW          3    20     195   1   0   0  ...   \n",
       "4   5     108         ANC       SEA          3    30     202   0   1   0  ...   \n",
       "\n",
       "   FL  HA  MQ  OH  OO  UA  US  WN  XE  YV  \n",
       "0   0   0   0   0   0   0   0   0   0   0  \n",
       "1   0   0   0   0   0   0   1   0   0   0  \n",
       "2   0   0   0   0   0   0   0   0   0   0  \n",
       "3   0   0   0   0   0   0   0   0   0   0  \n",
       "4   0   0   0   0   0   0   0   0   0   0  \n",
       "\n",
       "[5 rows x 24 columns]"
      ]
     },
     "execution_count": 9,
     "metadata": {},
     "output_type": "execute_result"
    }
   ],
   "source": [
    "one_hot = pd.get_dummies(X['Airline'],drop_first=True)\n",
    "X = X.drop('Airline',axis = 1)\n",
    "X = X.join(one_hot)\n",
    "\n",
    "X.head()"
   ]
  },
  {
   "cell_type": "code",
   "execution_count": 11,
   "metadata": {},
   "outputs": [
    {
     "data": {
      "text/html": [
       "<div>\n",
       "<style scoped>\n",
       "    .dataframe tbody tr th:only-of-type {\n",
       "        vertical-align: middle;\n",
       "    }\n",
       "\n",
       "    .dataframe tbody tr th {\n",
       "        vertical-align: top;\n",
       "    }\n",
       "\n",
       "    .dataframe thead th {\n",
       "        text-align: right;\n",
       "    }\n",
       "</style>\n",
       "<table border=\"1\" class=\"dataframe\">\n",
       "  <thead>\n",
       "    <tr style=\"text-align: right;\">\n",
       "      <th></th>\n",
       "      <th>id</th>\n",
       "      <th>Flight</th>\n",
       "      <th>AirportFrom</th>\n",
       "      <th>AirportTo</th>\n",
       "      <th>DayOfWeek</th>\n",
       "      <th>Time</th>\n",
       "      <th>Length</th>\n",
       "      <th>AA</th>\n",
       "      <th>AS</th>\n",
       "      <th>B6</th>\n",
       "      <th>...</th>\n",
       "      <th>FL</th>\n",
       "      <th>HA</th>\n",
       "      <th>MQ</th>\n",
       "      <th>OH</th>\n",
       "      <th>OO</th>\n",
       "      <th>UA</th>\n",
       "      <th>US</th>\n",
       "      <th>WN</th>\n",
       "      <th>XE</th>\n",
       "      <th>YV</th>\n",
       "    </tr>\n",
       "  </thead>\n",
       "  <tbody>\n",
       "    <tr>\n",
       "      <th>0</th>\n",
       "      <td>1</td>\n",
       "      <td>269</td>\n",
       "      <td>253</td>\n",
       "      <td>135</td>\n",
       "      <td>3</td>\n",
       "      <td>15</td>\n",
       "      <td>205</td>\n",
       "      <td>0</td>\n",
       "      <td>0</td>\n",
       "      <td>0</td>\n",
       "      <td>...</td>\n",
       "      <td>0</td>\n",
       "      <td>0</td>\n",
       "      <td>0</td>\n",
       "      <td>0</td>\n",
       "      <td>0</td>\n",
       "      <td>0</td>\n",
       "      <td>0</td>\n",
       "      <td>0</td>\n",
       "      <td>0</td>\n",
       "      <td>0</td>\n",
       "    </tr>\n",
       "    <tr>\n",
       "      <th>1</th>\n",
       "      <td>2</td>\n",
       "      <td>1558</td>\n",
       "      <td>217</td>\n",
       "      <td>60</td>\n",
       "      <td>3</td>\n",
       "      <td>15</td>\n",
       "      <td>222</td>\n",
       "      <td>0</td>\n",
       "      <td>0</td>\n",
       "      <td>0</td>\n",
       "      <td>...</td>\n",
       "      <td>0</td>\n",
       "      <td>0</td>\n",
       "      <td>0</td>\n",
       "      <td>0</td>\n",
       "      <td>0</td>\n",
       "      <td>0</td>\n",
       "      <td>1</td>\n",
       "      <td>0</td>\n",
       "      <td>0</td>\n",
       "      <td>0</td>\n",
       "    </tr>\n",
       "    <tr>\n",
       "      <th>2</th>\n",
       "      <td>3</td>\n",
       "      <td>2400</td>\n",
       "      <td>154</td>\n",
       "      <td>80</td>\n",
       "      <td>3</td>\n",
       "      <td>20</td>\n",
       "      <td>165</td>\n",
       "      <td>1</td>\n",
       "      <td>0</td>\n",
       "      <td>0</td>\n",
       "      <td>...</td>\n",
       "      <td>0</td>\n",
       "      <td>0</td>\n",
       "      <td>0</td>\n",
       "      <td>0</td>\n",
       "      <td>0</td>\n",
       "      <td>0</td>\n",
       "      <td>0</td>\n",
       "      <td>0</td>\n",
       "      <td>0</td>\n",
       "      <td>0</td>\n",
       "    </tr>\n",
       "    <tr>\n",
       "      <th>3</th>\n",
       "      <td>4</td>\n",
       "      <td>2466</td>\n",
       "      <td>253</td>\n",
       "      <td>80</td>\n",
       "      <td>3</td>\n",
       "      <td>20</td>\n",
       "      <td>195</td>\n",
       "      <td>1</td>\n",
       "      <td>0</td>\n",
       "      <td>0</td>\n",
       "      <td>...</td>\n",
       "      <td>0</td>\n",
       "      <td>0</td>\n",
       "      <td>0</td>\n",
       "      <td>0</td>\n",
       "      <td>0</td>\n",
       "      <td>0</td>\n",
       "      <td>0</td>\n",
       "      <td>0</td>\n",
       "      <td>0</td>\n",
       "      <td>0</td>\n",
       "    </tr>\n",
       "    <tr>\n",
       "      <th>4</th>\n",
       "      <td>5</td>\n",
       "      <td>108</td>\n",
       "      <td>14</td>\n",
       "      <td>252</td>\n",
       "      <td>3</td>\n",
       "      <td>30</td>\n",
       "      <td>202</td>\n",
       "      <td>0</td>\n",
       "      <td>1</td>\n",
       "      <td>0</td>\n",
       "      <td>...</td>\n",
       "      <td>0</td>\n",
       "      <td>0</td>\n",
       "      <td>0</td>\n",
       "      <td>0</td>\n",
       "      <td>0</td>\n",
       "      <td>0</td>\n",
       "      <td>0</td>\n",
       "      <td>0</td>\n",
       "      <td>0</td>\n",
       "      <td>0</td>\n",
       "    </tr>\n",
       "  </tbody>\n",
       "</table>\n",
       "<p>5 rows × 24 columns</p>\n",
       "</div>"
      ],
      "text/plain": [
       "   id  Flight  AirportFrom  AirportTo  DayOfWeek  Time  Length  AA  AS  B6  \\\n",
       "0   1     269          253        135          3    15     205   0   0   0   \n",
       "1   2    1558          217         60          3    15     222   0   0   0   \n",
       "2   3    2400          154         80          3    20     165   1   0   0   \n",
       "3   4    2466          253         80          3    20     195   1   0   0   \n",
       "4   5     108           14        252          3    30     202   0   1   0   \n",
       "\n",
       "   ...  FL  HA  MQ  OH  OO  UA  US  WN  XE  YV  \n",
       "0  ...   0   0   0   0   0   0   0   0   0   0  \n",
       "1  ...   0   0   0   0   0   0   1   0   0   0  \n",
       "2  ...   0   0   0   0   0   0   0   0   0   0  \n",
       "3  ...   0   0   0   0   0   0   0   0   0   0  \n",
       "4  ...   0   0   0   0   0   0   0   0   0   0  \n",
       "\n",
       "[5 rows x 24 columns]"
      ]
     },
     "execution_count": 11,
     "metadata": {},
     "output_type": "execute_result"
    }
   ],
   "source": [
    "X['AirportFrom'] = preprocessing.LabelEncoder().fit_transform(X['AirportFrom']) \n",
    "X['AirportTo'] = preprocessing.LabelEncoder().fit_transform(X['AirportTo'])\n",
    "X.head() "
   ]
  },
  {
   "attachments": {},
   "cell_type": "markdown",
   "metadata": {},
   "source": [
    "##### Training"
   ]
  },
  {
   "cell_type": "code",
   "execution_count": 30,
   "metadata": {},
   "outputs": [],
   "source": [
    "# validace modelu\n",
    "seed = 420\n",
    "X_tr, X_test, y_tr, y_test = train_test_split(X, y, test_size=0.2, random_state=seed, stratify=y)\n",
    "\n",
    "#Baseline dummy\n",
    "pipe_sc_dummy = Pipeline([('scaler', StandardScaler()),('classifier', DummyClassifier(strategy=\"most_frequent\"))])\n",
    "\n",
    "pipe_sc_lr = Pipeline([('scaler', StandardScaler()),('classifier', LogisticRegression())])\n",
    "pipe_mm_rf = Pipeline([('scaler', MinMaxScaler()),('classifier', RandomForestClassifier(n_estimators=200))])\n",
    "pipe_mm_knn5 = Pipeline([('scaler', MinMaxScaler()),('classifier', KNeighborsClassifier(n_neighbors=5))])\n",
    "pipe_mm_knn7 = Pipeline([('scaler', MinMaxScaler()),('classifier', KNeighborsClassifier(n_neighbors=7))])\n",
    "pipe_sc_svc = Pipeline([('scaler', StandardScaler()),('classifier', SVC(gamma='auto'))])\n",
    "\n",
    "pipe_sc_dtree = Pipeline([('scaler', StandardScaler()),('classifier', tree.DecisionTreeClassifier())])\n",
    "pipe_mm_dtree = Pipeline([('scaler', MinMaxScaler()),('classifier', tree.DecisionTreeClassifier())])\n",
    "\n",
    "pipe_mm_rf = Pipeline([('scaler', MinMaxScaler()),('classifier', RandomForestClassifier(n_estimators=500))])\n",
    "pipe_sc_rf = Pipeline([('scaler', StandardScaler()),('classifier', RandomForestClassifier(n_estimators=500,min_samples_split=3,min_samples_leaf=3))])\n",
    "\n",
    "pipe_sc_cat = Pipeline([('scaler', StandardScaler()),('classifier', cb.CatBoostClassifier(random_state=seed, verbose = 0))])\n",
    "pipe_mm_cat = Pipeline([('scaler', MinMaxScaler()),('classifier', cb.CatBoostClassifier(random_state=seed, verbose = 0))])"
   ]
  },
  {
   "cell_type": "code",
   "execution_count": 24,
   "metadata": {},
   "outputs": [],
   "source": [
    "# validace modelu\n",
    "seed = 420\n",
    "X_tr, X_test, y_tr, y_test = train_test_split(X, y, test_size=0.2, random_state=seed, stratify=y)\n",
    "\n",
    "#pipes = {\"pipe_sc_lr\":pipe_sc_lr, \"pipe_sc_knn7\":pipe_mm_knn7,\"pipe_mm_rf\":pipe_mm_rf,\"pipe_mm_knn5\":pipe_mm_knn5,\"pipe_sc_svc\":pipe_sc_svc,\"dummy\":pipe_sc_dummy}\n",
    "pipes = {\"pipe_sc_lr\":pipe_sc_lr,\"pipe_mm_knn5\":pipe_mm_knn5,\"dummy\":pipe_sc_dummy}"
   ]
  },
  {
   "cell_type": "code",
   "execution_count": 19,
   "metadata": {},
   "outputs": [
    {
     "name": "stdout",
     "output_type": "stream",
     "text": [
      "start\n",
      "[     1      2      5 ... 431502 431504 431505] pipe_sc_lr\n",
      "[     1      2      5 ... 431502 431504 431505] pipe_mm_knn5\n",
      "[     1      2      5 ... 431502 431504 431505] dummy\n",
      "[     0      1      2 ... 431503 431504 431505] pipe_sc_lr\n",
      "[     0      1      2 ... 431503 431504 431505] pipe_mm_knn5\n",
      "[     0      1      2 ... 431503 431504 431505] dummy\n",
      "[     0      1      2 ... 431503 431504 431505] pipe_sc_lr\n",
      "[     0      1      2 ... 431503 431504 431505] pipe_mm_knn5\n",
      "[     0      1      2 ... 431503 431504 431505] dummy\n",
      "[     0      2      3 ... 431502 431503 431504] pipe_sc_lr\n",
      "[     0      2      3 ... 431502 431503 431504] pipe_mm_knn5\n",
      "[     0      2      3 ... 431502 431503 431504] dummy\n",
      "[     0      1      3 ... 431502 431503 431505] pipe_sc_lr\n",
      "[     0      1      3 ... 431502 431503 431505] pipe_mm_knn5\n",
      "[     0      1      3 ... 431502 431503 431505] dummy\n",
      "progress6\n",
      "   pipe_sc_lr  pipe_mm_knn5     dummy\n",
      "0    0.643821      0.656763  0.557113\n",
      "1    0.641453      0.652159  0.554513\n",
      "2    0.645543      0.657432  0.552821\n",
      "3    0.644013      0.656366  0.554327\n",
      "4    0.642438      0.654083  0.553377\n",
      "pipe_sc_lr      0.643453\n",
      "pipe_mm_knn5    0.655361\n",
      "dummy           0.554430\n",
      "dtype: float64\n"
     ]
    }
   ],
   "source": [
    "results = { pipe_name: [] for pipe_name in pipes.keys()}\n",
    "# rozdelime si data na trenovaci, ktere budeme delit dale, a testovaci, na kterych pak ukazeme chovani\n",
    "X_tr, X_test, y_tr, y_test = train_test_split(X,y, test_size=0.2,random_state=seed) # testovaci data zatim nepouzijeme\n",
    "# trenovaci mnozinu budeme delit dale na 5 podmnozin\n",
    "kf = KFold(n_splits=5, shuffle=True)\n",
    "print(\"start\")\n",
    "for train_index, test_index in kf.split(X_tr, y_tr): # vraci dvojici poli testovacich a trenovacich indexu\n",
    "  # rozdel si data na trenovaci a na data, na kterych bude ohodnocen klasifikator\n",
    "  X_fold_tr = X_tr.values[train_index]\n",
    "  y_fold_tr = y_tr[train_index]\n",
    "  X_fold_test = X_tr.values[test_index]\n",
    "  y_fold_test = y_tr[test_index]\n",
    "  for k, pipe in pipes.items(): # pro kazdou pipe, delej\n",
    "    pipe.fit(X_fold_tr, y_fold_tr) # nauc\n",
    "    results[k].append(pipe.score(X_fold_test,y_fold_test)) # uloz si accuracy\n",
    "    print(train_index,k)\n",
    "#udelej si dataframe pro zhodnoceni\n",
    "print(\"progress6\")\n",
    "results = pd.DataFrame(data = results)\n",
    "\n",
    "print(results) # tiskni za jednoltive foldy uspesnost klasifikatoru\n",
    "print(results.mean()) # tiskni prumer"
   ]
  },
  {
   "attachments": {},
   "cell_type": "markdown",
   "metadata": {},
   "source": [
    "This was result of first try, baseline is 0.55.  \n",
    "Logistic regresion mm fielded 0.64.\n",
    "Knn5 sc fielded 0.65.\n",
    "\n",
    "Lets try other methods.\n",
    "\n"
   ]
  },
  {
   "cell_type": "code",
   "execution_count": 31,
   "metadata": {},
   "outputs": [],
   "source": [
    "# validace modelu\n",
    "seed = 420\n",
    "X_tr, X_test, y_tr, y_test = train_test_split(X, y, test_size=0.2, random_state=seed, stratify=y)\n",
    "\n",
    "#pipes = {\"pipe_sc_lr\":pipe_sc_lr, \"pipe_sc_knn7\":pipe_mm_knn7,\"pipe_mm_rf\":pipe_mm_rf,\"pipe_mm_knn5\":pipe_mm_knn5,\"pipe_sc_svc\":pipe_sc_svc,\"dummy\":pipe_sc_dummy}\n",
    "pipes = {\"pipe_mm_cat\":pipe_mm_cat, \"pipe_mm_knn7\":pipe_mm_knn7, \"pipe_mm_rf\":pipe_mm_rf,\"pipe_mm_dtree\":pipe_mm_dtree}"
   ]
  },
  {
   "cell_type": "code",
   "execution_count": 32,
   "metadata": {},
   "outputs": [
    {
     "name": "stdout",
     "output_type": "stream",
     "text": [
      "start\n",
      "[     0      2      4 ... 431503 431504 431505] pipe_mm_cat\n",
      "[     0      2      4 ... 431503 431504 431505] pipe_mm_knn7\n",
      "[     0      2      4 ... 431503 431504 431505] pipe_mm_rf\n",
      "[     0      2      4 ... 431503 431504 431505] pipe_mm_dtree\n",
      "[     0      1      3 ... 431502 431504 431505] pipe_mm_cat\n",
      "[     0      1      3 ... 431502 431504 431505] pipe_mm_knn7\n",
      "[     0      1      3 ... 431502 431504 431505] pipe_mm_rf\n",
      "[     0      1      3 ... 431502 431504 431505] pipe_mm_dtree\n",
      "[     0      1      2 ... 431503 431504 431505] pipe_mm_cat\n",
      "[     0      1      2 ... 431503 431504 431505] pipe_mm_knn7\n",
      "[     0      1      2 ... 431503 431504 431505] pipe_mm_rf\n",
      "[     0      1      2 ... 431503 431504 431505] pipe_mm_dtree\n",
      "[     0      1      2 ... 431502 431503 431505] pipe_mm_cat\n",
      "[     0      1      2 ... 431502 431503 431505] pipe_mm_knn7\n",
      "[     0      1      2 ... 431502 431503 431505] pipe_mm_rf\n",
      "[     0      1      2 ... 431502 431503 431505] pipe_mm_dtree\n",
      "[     1      2      3 ... 431502 431503 431504] pipe_mm_cat\n",
      "[     1      2      3 ... 431502 431503 431504] pipe_mm_knn7\n",
      "[     1      2      3 ... 431502 431503 431504] pipe_mm_rf\n",
      "[     1      2      3 ... 431502 431503 431504] pipe_mm_dtree\n",
      "progress6\n",
      "   pipe_mm_cat  pipe_mm_knn7  pipe_mm_rf  pipe_mm_dtree\n",
      "0     0.698698      0.661781    0.692000       0.616799\n",
      "1     0.698346      0.660363    0.691406       0.619390\n",
      "2     0.700073      0.663017    0.693549       0.620700\n",
      "3     0.696585      0.663109    0.691301       0.615798\n",
      "4     0.697396      0.661082    0.691695       0.618869\n",
      "pipe_mm_cat      0.698220\n",
      "pipe_mm_knn7     0.661870\n",
      "pipe_mm_rf       0.691990\n",
      "pipe_mm_dtree    0.618311\n",
      "dtype: float64\n"
     ]
    }
   ],
   "source": [
    "results = { pipe_name: [] for pipe_name in pipes.keys()}\n",
    "# rozdelime si data na trenovaci, ktere budeme delit dale, a testovaci, na kterych pak ukazeme chovani\n",
    "X_tr, X_test, y_tr, y_test = train_test_split(X,y, test_size=0.2,random_state=seed) # testovaci data zatim nepouzijeme\n",
    "# trenovaci mnozinu budeme delit dale na 5 podmnozin\n",
    "kf = KFold(n_splits=5, shuffle=True)\n",
    "print(\"start\")\n",
    "for train_index, test_index in kf.split(X_tr, y_tr): # vraci dvojici poli testovacich a trenovacich indexu\n",
    "  # rozdel si data na trenovaci a na data, na kterych bude ohodnocen klasifikator\n",
    "  X_fold_tr = X_tr.values[train_index]\n",
    "  y_fold_tr = y_tr[train_index]\n",
    "  X_fold_test = X_tr.values[test_index]\n",
    "  y_fold_test = y_tr[test_index]\n",
    "  for k, pipe in pipes.items(): # pro kazdou pipe, delej\n",
    "    pipe.fit(X_fold_tr, y_fold_tr) # nauc\n",
    "    results[k].append(pipe.score(X_fold_test,y_fold_test)) # uloz si accuracy\n",
    "    print(train_index,k)\n",
    "#udelej si dataframe pro zhodnoceni\n",
    "print(\"progress6\")\n",
    "results = pd.DataFrame(data = results)\n",
    "\n",
    "print(results) # tiskni za jednoltive foldy uspesnost klasifikatoru\n",
    "print(results.mean()) # tiskni prumer"
   ]
  },
  {
   "attachments": {},
   "cell_type": "markdown",
   "metadata": {},
   "source": [
    "RF getting good score was my bet for this dataset, where there will be big differences in delay depending on airport, flight from and flight to that are categorical  \n",
    "Cat of course beating everything.\n",
    "while waiting i checked other results on net. 0.69 is number to beat so i am happy.  "
   ]
  },
  {
   "attachments": {},
   "cell_type": "markdown",
   "metadata": {},
   "source": [
    "##### Lets try neural networks for lulz"
   ]
  },
  {
   "cell_type": "code",
   "execution_count": 51,
   "metadata": {},
   "outputs": [
    {
     "name": "stdout",
     "output_type": "stream",
     "text": [
      "(539383, 24)\n",
      "Epoch 1/20\n",
      "15171/15171 [==============================] - 36s 2ms/step - loss: 0.6201 - accuracy: 0.6524 - val_loss: 0.6125 - val_accuracy: 0.6612\n",
      "Epoch 2/20\n",
      "15171/15171 [==============================] - 35s 2ms/step - loss: 0.6102 - accuracy: 0.6619 - val_loss: 0.6094 - val_accuracy: 0.6629\n",
      "Epoch 3/20\n",
      "15171/15171 [==============================] - 35s 2ms/step - loss: 0.6060 - accuracy: 0.6662 - val_loss: 0.6074 - val_accuracy: 0.6683\n",
      "Epoch 4/20\n",
      "15171/15171 [==============================] - 35s 2ms/step - loss: 0.6035 - accuracy: 0.6688 - val_loss: 0.6041 - val_accuracy: 0.6676\n",
      "Epoch 5/20\n",
      "15171/15171 [==============================] - 34s 2ms/step - loss: 0.6018 - accuracy: 0.6703 - val_loss: 0.6001 - val_accuracy: 0.6709\n",
      "Epoch 6/20\n",
      "15171/15171 [==============================] - 34s 2ms/step - loss: 0.6005 - accuracy: 0.6711 - val_loss: 0.6001 - val_accuracy: 0.6709\n",
      "Epoch 7/20\n",
      "15171/15171 [==============================] - 35s 2ms/step - loss: 0.5990 - accuracy: 0.6726 - val_loss: 0.6013 - val_accuracy: 0.6692\n",
      "Epoch 8/20\n",
      "15171/15171 [==============================] - 37s 2ms/step - loss: 0.5980 - accuracy: 0.6739 - val_loss: 0.5988 - val_accuracy: 0.6737\n",
      "Epoch 9/20\n",
      "15171/15171 [==============================] - 35s 2ms/step - loss: 0.5971 - accuracy: 0.6746 - val_loss: 0.5969 - val_accuracy: 0.6741\n",
      "Epoch 10/20\n",
      "15171/15171 [==============================] - 36s 2ms/step - loss: 0.5963 - accuracy: 0.6755 - val_loss: 0.5970 - val_accuracy: 0.6739\n",
      "Epoch 11/20\n",
      "15171/15171 [==============================] - 35s 2ms/step - loss: 0.5955 - accuracy: 0.6762 - val_loss: 0.5980 - val_accuracy: 0.6715\n",
      "Epoch 12/20\n",
      "15171/15171 [==============================] - 35s 2ms/step - loss: 0.5950 - accuracy: 0.6769 - val_loss: 0.5970 - val_accuracy: 0.6748\n",
      "Epoch 13/20\n",
      "15171/15171 [==============================] - 35s 2ms/step - loss: 0.5943 - accuracy: 0.6774 - val_loss: 0.5965 - val_accuracy: 0.6749\n",
      "Epoch 14/20\n",
      "15171/15171 [==============================] - 35s 2ms/step - loss: 0.5936 - accuracy: 0.6774 - val_loss: 0.5963 - val_accuracy: 0.6762\n",
      "Epoch 15/20\n",
      "15171/15171 [==============================] - 36s 2ms/step - loss: 0.5932 - accuracy: 0.6786 - val_loss: 0.5955 - val_accuracy: 0.6774\n",
      "Epoch 16/20\n",
      "15171/15171 [==============================] - 36s 2ms/step - loss: 0.5925 - accuracy: 0.6797 - val_loss: 0.5962 - val_accuracy: 0.6783\n",
      "Epoch 17/20\n",
      "15171/15171 [==============================] - 36s 2ms/step - loss: 0.5921 - accuracy: 0.6796 - val_loss: 0.5947 - val_accuracy: 0.6780\n",
      "Epoch 18/20\n",
      "15171/15171 [==============================] - 37s 2ms/step - loss: 0.5916 - accuracy: 0.6799 - val_loss: 0.5947 - val_accuracy: 0.6760\n",
      "Epoch 19/20\n",
      "15171/15171 [==============================] - 39s 3ms/step - loss: 0.5912 - accuracy: 0.6800 - val_loss: 0.5939 - val_accuracy: 0.6775\n",
      "Epoch 20/20\n",
      "15171/15171 [==============================] - 36s 2ms/step - loss: 0.5907 - accuracy: 0.6808 - val_loss: 0.5947 - val_accuracy: 0.6769\n"
     ]
    }
   ],
   "source": [
    "# Combining the processed data\n",
    "print(X.shape)\n",
    "X_n = X\n",
    "scaler = MinMaxScaler()\n",
    "\n",
    "X_n = scaler.fit_transform(X_n)\n",
    "\n",
    "# Splitting data into training and testing\n",
    "X_train, X_test, y_train, y_test = train_test_split(X_n, y, test_size=0.1, random_state=420)\n",
    "\n",
    "# Create the neural network model\n",
    "neural_model = tf.keras.Sequential([\n",
    "    tf.keras.layers.Dense(128, input_shape = (24,), activation='relu'),\n",
    "    tf.keras.layers.Dense(64, activation='relu'),\n",
    "    tf.keras.layers.Dense(32, activation='relu'),\n",
    "    tf.keras.layers.Dense(1, activation='sigmoid')  # binary classification\n",
    "])\n",
    "\n",
    "neural_model.compile(optimizer='adam', loss='binary_crossentropy', metrics=['accuracy'])\n",
    "\n",
    "# Train the model\n",
    "history = neural_model.fit(X_train, y_train, epochs=20, batch_size=32, validation_data=(X_test, y_test))\n"
   ]
  },
  {
   "attachments": {},
   "cell_type": "markdown",
   "metadata": {},
   "source": [
    "Graphscvery much borrowed"
   ]
  },
  {
   "cell_type": "code",
   "execution_count": 55,
   "metadata": {},
   "outputs": [
    {
     "name": "stdout",
     "output_type": "stream",
     "text": [
      "1686/1686 [==============================] - 3s 2ms/step - loss: 0.5947 - accuracy: 0.6769\n",
      "Test Accuracy: 67.69%\n"
     ]
    },
    {
     "data": {
      "image/png": "[encoded data removed]",
      "text/plain": [
       "<Figure size 1200x400 with 2 Axes>"
      ]
     },
     "metadata": {},
     "output_type": "display_data"
    }
   ],
   "source": [
    "plt.rcParams[\"figure.figsize\"] = [12,4]\n",
    "figure, axis = plt.subplots(1, 2)\n",
    "axis[0].plot(history.history['accuracy'], label='accuracy - treninkova data')\n",
    "axis[0].plot(history.history['val_accuracy'], label='accuracy - neznama data')\n",
    "axis[0].grid()\n",
    "axis[0].set_title('Accuracy')\n",
    "axis[0].legend()\n",
    "\n",
    "axis[1].plot(history.history['loss'], label='loss - treninkova data')\n",
    "axis[1].plot(history.history['val_loss'], label='loss - neznama data')\n",
    "axis[1].grid()\n",
    "axis[1].set_title('Loss')\n",
    "axis[1].legend()\n",
    "\n",
    "loss, accuracy = neural_model.evaluate(X_test, y_test)\n",
    "print(f\"Test Accuracy: {accuracy * 100:.2f}%\")\n"
   ]
  },
  {
   "attachments": {},
   "cell_type": "markdown",
   "metadata": {},
   "source": [
    "TRY 2"
   ]
  },
  {
   "cell_type": "code",
   "execution_count": 16,
   "metadata": {},
   "outputs": [
    {
     "name": "stdout",
     "output_type": "stream",
     "text": [
      "(539383, 24)\n",
      "Model: \"sequential_2\"\n",
      "_________________________________________________________________\n",
      " Layer (type)                Output Shape              Param #   \n",
      "=================================================================\n",
      " dense_8 (Dense)             (None, 256)               6400      \n",
      "                                                                 \n",
      " dense_9 (Dense)             (None, 515)               132355    \n",
      "                                                                 \n",
      " dropout_4 (Dropout)         (None, 515)               0         \n",
      "                                                                 \n",
      " dense_10 (Dense)            (None, 50)                25800     \n",
      "                                                                 \n",
      " dropout_5 (Dropout)         (None, 50)                0         \n",
      "                                                                 \n",
      " dense_11 (Dense)            (None, 1)                 51        \n",
      "                                                                 \n",
      "=================================================================\n",
      "Total params: 164,606\n",
      "Trainable params: 164,606\n",
      "Non-trainable params: 0\n",
      "_________________________________________________________________\n",
      "Epoch 1/20\n",
      "15171/15171 [==============================] - 54s 3ms/step - loss: 0.6229 - accuracy: 0.6505 - val_loss: 0.6130 - val_accuracy: 0.6582\n",
      "Epoch 2/20\n",
      "15171/15171 [==============================] - 51s 3ms/step - loss: 0.6138 - accuracy: 0.6600 - val_loss: 0.6110 - val_accuracy: 0.6631\n",
      "Epoch 3/20\n",
      "15171/15171 [==============================] - 51s 3ms/step - loss: 0.6105 - accuracy: 0.6635 - val_loss: 0.6062 - val_accuracy: 0.6657\n",
      "Epoch 4/20\n",
      "15171/15171 [==============================] - 52s 3ms/step - loss: 0.6084 - accuracy: 0.6653 - val_loss: 0.6044 - val_accuracy: 0.6692\n",
      "Epoch 5/20\n",
      "15171/15171 [==============================] - 53s 3ms/step - loss: 0.6068 - accuracy: 0.6670 - val_loss: 0.6026 - val_accuracy: 0.6703\n",
      "Epoch 6/20\n",
      "15171/15171 [==============================] - 54s 4ms/step - loss: 0.6053 - accuracy: 0.6685 - val_loss: 0.6023 - val_accuracy: 0.6697\n",
      "Epoch 7/20\n",
      "15171/15171 [==============================] - 53s 4ms/step - loss: 0.6043 - accuracy: 0.6698 - val_loss: 0.6000 - val_accuracy: 0.6722\n",
      "Epoch 8/20\n",
      "15171/15171 [==============================] - 53s 4ms/step - loss: 0.6031 - accuracy: 0.6711 - val_loss: 0.5991 - val_accuracy: 0.6734\n",
      "Epoch 9/20\n",
      "15171/15171 [==============================] - 53s 4ms/step - loss: 0.6024 - accuracy: 0.6711 - val_loss: 0.6006 - val_accuracy: 0.6711\n",
      "Epoch 10/20\n",
      "15171/15171 [==============================] - 55s 4ms/step - loss: 0.6018 - accuracy: 0.6720 - val_loss: 0.5998 - val_accuracy: 0.6738\n",
      "Epoch 11/20\n",
      "15171/15171 [==============================] - 56s 4ms/step - loss: 0.6013 - accuracy: 0.6729 - val_loss: 0.5983 - val_accuracy: 0.6719\n",
      "Epoch 12/20\n",
      "15171/15171 [==============================] - 57s 4ms/step - loss: 0.6003 - accuracy: 0.6738 - val_loss: 0.6002 - val_accuracy: 0.6736\n",
      "Epoch 13/20\n",
      "15171/15171 [==============================] - 56s 4ms/step - loss: 0.5998 - accuracy: 0.6739 - val_loss: 0.5979 - val_accuracy: 0.6767\n",
      "Epoch 14/20\n",
      "15171/15171 [==============================] - 56s 4ms/step - loss: 0.5992 - accuracy: 0.6751 - val_loss: 0.5988 - val_accuracy: 0.6734\n",
      "Epoch 15/20\n",
      "15171/15171 [==============================] - 60s 4ms/step - loss: 0.5987 - accuracy: 0.6750 - val_loss: 0.5982 - val_accuracy: 0.6735\n",
      "Epoch 16/20\n",
      "15171/15171 [==============================] - 56s 4ms/step - loss: 0.5982 - accuracy: 0.6756 - val_loss: 0.5975 - val_accuracy: 0.6748\n",
      "Epoch 17/20\n",
      "15171/15171 [==============================] - 53s 3ms/step - loss: 0.5977 - accuracy: 0.6760 - val_loss: 0.5962 - val_accuracy: 0.6770\n",
      "Epoch 18/20\n",
      "15171/15171 [==============================] - 53s 3ms/step - loss: 0.5975 - accuracy: 0.6769 - val_loss: 0.5956 - val_accuracy: 0.6799\n",
      "Epoch 19/20\n",
      "15171/15171 [==============================] - 51s 3ms/step - loss: 0.5970 - accuracy: 0.6771 - val_loss: 0.5952 - val_accuracy: 0.6762\n",
      "Epoch 20/20\n",
      "15171/15171 [==============================] - 51s 3ms/step - loss: 0.5966 - accuracy: 0.6771 - val_loss: 0.5976 - val_accuracy: 0.6755\n"
     ]
    }
   ],
   "source": [
    "# Combining the processed data\n",
    "print(X.shape)\n",
    "X_n = X\n",
    "scaler = MinMaxScaler()\n",
    "\n",
    "X_n = scaler.fit_transform(X_n)\n",
    "\n",
    "# Splitting data into training and testing\n",
    "X_train, X_test, y_train, y_test = train_test_split(X_n, y, test_size=0.1, random_state=420)\n",
    "\n",
    "# Create the neural network model\n",
    "neural_model = tf.keras.Sequential(\n",
    "    [\n",
    "        tf.keras.layers.Dense(\n",
    "            256, activation=\"relu\", input_shape=[24]\n",
    "        ),\n",
    "        tf.keras.layers.Dense(515, activation=\"relu\"),\n",
    "        tf.keras.layers.Dropout(0.3),\n",
    "        tf.keras.layers.Dense(50, activation=\"relu\"),\n",
    "        tf.keras.layers.Dropout(0.3),\n",
    "        tf.keras.layers.Dense(1, activation=\"sigmoid\"),\n",
    "    ]\n",
    ")\n",
    "neural_model.summary()\n",
    "neural_model.compile(optimizer='adam', loss='binary_crossentropy', metrics=['accuracy'])\n",
    "\n",
    "# Train the model\n",
    "history = neural_model.fit(X_train, y_train, epochs=20, batch_size=32, validation_data=(X_test, y_test))\n",
    "\n",
    "\n"
   ]
  },
  {
   "cell_type": "code",
   "execution_count": 17,
   "metadata": {},
   "outputs": [
    {
     "name": "stdout",
     "output_type": "stream",
     "text": [
      "1686/1686 [==============================] - 3s 2ms/step - loss: 0.5976 - accuracy: 0.6755\n",
      "Test Accuracy: 67.55%\n"
     ]
    },
    {
     "data": {
      "image/png": "[encoded data removed]",
      "text/plain": [
       "<Figure size 1200x400 with 2 Axes>"
      ]
     },
     "metadata": {},
     "output_type": "display_data"
    }
   ],
   "source": [
    "plt.rcParams[\"figure.figsize\"] = [12,4]\n",
    "figure, axis = plt.subplots(1, 2)\n",
    "axis[0].plot(history.history['accuracy'], label='accuracy - treninkova data')\n",
    "axis[0].plot(history.history['val_accuracy'], label='accuracy - neznama data')\n",
    "axis[0].grid()\n",
    "axis[0].set_title('Accuracy')\n",
    "axis[0].legend()\n",
    "\n",
    "axis[1].plot(history.history['loss'], label='loss - treninkova data')\n",
    "axis[1].plot(history.history['val_loss'], label='loss - neznama data')\n",
    "axis[1].grid()\n",
    "axis[1].set_title('Loss')\n",
    "axis[1].legend()\n",
    "\n",
    "loss, accuracy = neural_model.evaluate(X_test, y_test)\n",
    "print(f\"Test Accuracy: {accuracy * 100:.2f}%\")"
   ]
  },
  {
   "cell_type": "code",
   "execution_count": 19,
   "metadata": {},
   "outputs": [
    {
     "name": "stdout",
     "output_type": "stream",
     "text": [
      "1686/1686 [==============================] - 3s 2ms/step\n"
     ]
    },
    {
     "data": {
      "text/plain": [
       "0.675540888781772"
      ]
     },
     "execution_count": 19,
     "metadata": {},
     "output_type": "execute_result"
    }
   ],
   "source": [
    "predictions =(neural_model.predict(X_test)>0.5).astype(\"int32\")\n",
    "from sklearn.metrics import classification_report, confusion_matrix, accuracy_score\n",
    "accuracy_score(y_test, predictions)"
   ]
  },
  {
   "cell_type": "code",
   "execution_count": 20,
   "metadata": {},
   "outputs": [
    {
     "name": "stdout",
     "output_type": "stream",
     "text": [
      "              precision    recall  f1-score   support\n",
      "\n",
      "           0       0.68      0.79      0.73     30189\n",
      "           1       0.66      0.53      0.59     23750\n",
      "\n",
      "    accuracy                           0.68     53939\n",
      "   macro avg       0.67      0.66      0.66     53939\n",
      "weighted avg       0.67      0.68      0.67     53939\n",
      "\n"
     ]
    }
   ],
   "source": [
    "print(classification_report(y_test, predictions))"
   ]
  }
 ],
 "metadata": {
  "kernelspec": {
   "display_name": "Python 3",
   "language": "python",
   "name": "python3"
  },
  "language_info": {
   "codemirror_mode": {
    "name": "ipython",
    "version": 3
   },
   "file_extension": ".py",
   "mimetype": "text/x-python",
   "name": "python",
   "nbconvert_exporter": "python",
   "pygments_lexer": "ipython3",
   "version": "3.9.10"
  },
  "orig_nbformat": 4
 },
 "nbformat": 4,
 "nbformat_minor": 2
}
